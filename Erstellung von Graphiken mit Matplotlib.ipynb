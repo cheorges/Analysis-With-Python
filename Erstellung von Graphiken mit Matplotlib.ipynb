{
 "cells": [
  {
   "cell_type": "markdown",
   "metadata": {},
   "source": [
    "# Erstellung von Graphiken mit Matplotlib"
   ]
  },
  {
   "cell_type": "markdown",
   "metadata": {},
   "source": [
    "## Auftrag\n",
    "Erstellen Sie eine Beispielsammlung von verschiedenen Arten von Graphiken mit Matplotlib; es sollte je ein Beispiel der folgenden Diagrammtypen berücksichtigt werden:\n",
    "1. Funktionsgraphen, \n",
    "2. Mehrere Funktionsgraphen in der selben Graphik,\n",
    "3. Balkendiagramme,\n",
    "4. Tortendiagramme,\n",
    "5. Histogramme."
   ]
  },
  {
   "cell_type": "markdown",
   "metadata": {},
   "source": [
    "## Umgebung\n",
    "Damit die Snippets funktionieren, muss das folgende Python-Modul installiert sein.\n",
    "* numpy\n",
    "* matplotlib\n",
    "* scipy"
   ]
  },
  {
   "cell_type": "code",
   "execution_count": 1,
   "metadata": {},
   "outputs": [
    {
     "name": "stdout",
     "output_type": "stream",
     "text": [
      "Requirement already satisfied: numpy in /usr/local/anaconda3/lib/python3.7/site-packages (1.17.2)\n",
      "Note: you may need to restart the kernel to use updated packages.\n"
     ]
    }
   ],
   "source": [
    "pip install numpy"
   ]
  },
  {
   "cell_type": "code",
   "execution_count": 2,
   "metadata": {},
   "outputs": [
    {
     "name": "stdout",
     "output_type": "stream",
     "text": [
      "Requirement already satisfied: matplotlib in /usr/local/anaconda3/lib/python3.7/site-packages (3.1.1)\n",
      "Requirement already satisfied: cycler>=0.10 in /usr/local/anaconda3/lib/python3.7/site-packages (from matplotlib) (0.10.0)\n",
      "Requirement already satisfied: kiwisolver>=1.0.1 in /usr/local/anaconda3/lib/python3.7/site-packages (from matplotlib) (1.1.0)\n",
      "Requirement already satisfied: pyparsing!=2.0.4,!=2.1.2,!=2.1.6,>=2.0.1 in /usr/local/anaconda3/lib/python3.7/site-packages (from matplotlib) (2.4.2)\n",
      "Requirement already satisfied: python-dateutil>=2.1 in /usr/local/anaconda3/lib/python3.7/site-packages (from matplotlib) (2.8.0)\n",
      "Requirement already satisfied: numpy>=1.11 in /usr/local/anaconda3/lib/python3.7/site-packages (from matplotlib) (1.17.2)\n",
      "Requirement already satisfied: six in /usr/local/anaconda3/lib/python3.7/site-packages (from cycler>=0.10->matplotlib) (1.12.0)\n",
      "Requirement already satisfied: setuptools in /usr/local/anaconda3/lib/python3.7/site-packages (from kiwisolver>=1.0.1->matplotlib) (41.4.0)\n",
      "Note: you may need to restart the kernel to use updated packages.\n"
     ]
    }
   ],
   "source": [
    "pip install matplotlib"
   ]
  },
  {
   "cell_type": "code",
   "execution_count": 11,
   "metadata": {},
   "outputs": [
    {
     "name": "stdout",
     "output_type": "stream",
     "text": [
      "Requirement already satisfied: scipy in /usr/local/anaconda3/lib/python3.7/site-packages (1.3.1)\n",
      "Note: you may need to restart the kernel to use updated packages.\n"
     ]
    }
   ],
   "source": [
    "pip install scipy"
   ]
  },
  {
   "cell_type": "markdown",
   "metadata": {},
   "source": [
    "### NumPy\n",
    "Bei **NumPy** handelt es sich um eine Programmbibliothek für die Programmiersprache Python. Diese Bibliothek ermöglicht eine einfache Handhabung von grossen mehrdimensionalen Arrays. Dazu bietet **NumPy** effiziente Implementierungen von mathematischen Funktionen. "
   ]
  },
  {
   "cell_type": "markdown",
   "metadata": {},
   "source": [
    "###  Matplotlib\n",
    "Bei **Matplotlib** handelt es sich um eine Programmbibliothek für die Programmiersprache Python. **Matplotlib** ermöglich eine graphische Darstellung sämtlicher mathematischen Funktionen und vielem mehr. Die erstellten Graphen können mit wenig Aufwand so konfiguriert werden, dass sie für fast alle Anwendungsbereiche geeignet sind. "
   ]
  },
  {
   "cell_type": "markdown",
   "metadata": {},
   "source": [
    "### SciPy\n",
    "Bei **SciPy** handelt es sich um eine Programmbibliothek für die Programmiersprache Python. Diese Bibliothek ermöglicht es einfach Statistische Standardwerte zu generieren und noch vieles mehr."
   ]
  },
  {
   "cell_type": "markdown",
   "metadata": {},
   "source": [
    "## Funktionsgraphen (1)"
   ]
  },
  {
   "cell_type": "markdown",
   "metadata": {},
   "source": [
    "## Einfacher Funktionsgraph\n",
    "Für den Auftrag **1 Funktionsgraphen** wurde die Allgemeine Normalverteilung (Gauss-Verteilung) ausgewählt. Bei der Normalverteilung handelt es sich in der Statistik um eine der am häufigsten verwendeten Verteilungsfunktionen. Das kommt daher, dass sich mit dieser Funktion viele technische, wirtschaftliche und naturwissenschaftliche Abhängigkeiten beschreiben lassen. Die Normalverteilung besitzt die bekannte Glockenkurve welche über zwei Parameter $\\mu$ (Mittelwerts) und $\\sigma^2$ (Variaz) und $\\sigma$ wäre die Wurzel aus der Varianz und ist die Standardabweichung.  \n",
    "\n",
    "$$f(x;\\mu,\\sigma^2)=\\frac{1}{\\sigma\\sqrt{2\\pi}}*e^-\\frac{1}{2}(\\frac{x-\\mu}{\\sigma})^2$$  \n",
    "Der Parameter $\\mu$ (`mu`) gibt den Erwartungswert an. Dieser legt fest, an welcher Stelle die Normalvertilung ihr Maximum haben wird. Der zweite Parameter $\\sigma$ (`sigma`) gibt die Standardabweichung an.\n",
    "* $\\mu$ verschiebt den Mittelwert auf der X-Achse\n",
    "* $\\sigma$ lässt die Glockenkurve stärker/schwächer ausfallen  "
   ]
  },
  {
   "cell_type": "code",
   "execution_count": 68,
   "metadata": {},
   "outputs": [],
   "source": [
    "import scipy.stats\n",
    "import numpy as np\n",
    "\n",
    "\n",
    "def normalverteilung(mu, simga, min_value = -8.0, max_value = 8.0):\n",
    "    \"\"\" Generiert Daten für eine Normalverteilung\n",
    "        :param float mu: Mittelwert\n",
    "        :param float sigma: Standartabweichung\n",
    "        :param float min_value: Minimum für die Datengenerierung (defaut = -8.0)\n",
    "        :param float max_value: Maximum für die Datengenerierung (default = 8.0)\n",
    "        :retrun x, y: Generierte Daten der Normalverteilung \n",
    "    \"\"\"\n",
    "    \n",
    "    x = np.linspace(x_min, x_max, 1000)\n",
    "    y = scipy.stats.norm.pdf(x, scale=simga)\n",
    "    return x, y"
   ]
  },
  {
   "cell_type": "markdown",
   "metadata": {},
   "source": [
    "Die Funktion `normalverteilung` generiert mithilfe der Programmbibliothek **SciPy** Daten für eine Normal in dem Bereich von $-8.0$ bis $8.0$, sofern kein andere Minimum oder Maximum Wert übergeben werden. Wie auch die Normalverteilung benötigt die Funktion `normalverteilung` zwei Parameter `mu` für die Bestimmung des Mittelwert und `sigma` für die Bestimmung der Standardabweichung respektive für die Varianz."
   ]
  },
  {
   "cell_type": "code",
   "execution_count": 70,
   "metadata": {},
   "outputs": [
    {
     "data": {
      "image/png": "[encoded data removed]",
      "text/plain": [
       "<Figure size 432x288 with 1 Axes>"
      ]
     },
     "metadata": {
      "needs_background": "light"
     },
     "output_type": "display_data"
    }
   ],
   "source": [
    "import matplotlib.pyplot as plt\n",
    "\n",
    "plt.title(\"Normalverteilung\")\n",
    "plt.xlabel(\"X-Achse\")\n",
    "plt.ylabel(\"Y-Achse\")\n",
    "plt.grid(True)\n",
    "\n",
    "x, y = normalverteilung(0.0, 1.0)\n",
    "plt.plot(x, y)\n",
    "\n",
    "plt.show()"
   ]
  },
  {
   "cell_type": "markdown",
   "metadata": {},
   "source": [
    "Mittels **Matplotlib** ist es sehr einfach einen Funktionsgraph zu erstellen. Dazu wird nur der Import der Programmbibliothek und die zwei Zeilen `plt.plot(x, y)` und `plt.show()` benötigt. Wobei die Parameter `x`und `y` die entsprechenden Daten als Array vorhanden sein müssen. Diese Daten werden über die zuvor beschriebene Funktion `normalverteilung` generiert. Der restliche Programmcode ist selbstprechend und ist dafür da um den Graph lesbarer und informationsreicher zu gestallten.\n",
    "Folgende nicht vollständige Liste beschreibt, was alles für den Graphen konfiguriert werden kann. \n",
    "* xlabel: Wird die X-Achse beschrieben\n",
    "* ylabel: Wird die Y-Achse beschrieben\n",
    "* title: Wird ein Titel für den Graphen gesetzt\n",
    "* grid: Wird festgelegt ob das Gitter im Hintergrund dargestellt werden soll    "
   ]
  },
  {
   "cell_type": "code",
   "execution_count": 71,
   "metadata": {},
   "outputs": [
    {
     "data": {
      "image/png": "[encoded data removed]",
      "text/plain": [
       "<Figure size 432x288 with 1 Axes>"
      ]
     },
     "metadata": {
      "needs_background": "light"
     },
     "output_type": "display_data"
    }
   ],
   "source": [
    "plt.title(\"Normalverteilung\")\n",
    "plt.xlabel(\"X-Achse\")\n",
    "plt.ylabel(\"Y-Achse\")\n",
    "plt.grid(True)\n",
    "\n",
    "\n",
    "mu_simga = [(0.0, 2.0), (-4.0, 4.0), (2.0, 0.5)]\n",
    "for value in mu_simga:\n",
    "    x, y = normalverteilung(value[0], value[1])\n",
    "    plt.plot(x, y)\n",
    "\n",
    "plt.show()"
   ]
  },
  {
   "cell_type": "code",
   "execution_count": null,
   "metadata": {},
   "outputs": [],
   "source": []
  }
 ],
 "metadata": {
  "kernelspec": {
   "display_name": "Python 3",
   "language": "python",
   "name": "python3"
  },
  "language_info": {
   "codemirror_mode": {
    "name": "ipython",
    "version": 3
   },
   "file_extension": ".py",
   "mimetype": "text/x-python",
   "name": "python",
   "nbconvert_exporter": "python",
   "pygments_lexer": "ipython3",
   "version": "3.7.4"
  }
 },
 "nbformat": 4,
 "nbformat_minor": 2
}
