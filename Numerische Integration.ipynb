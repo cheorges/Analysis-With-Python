{
 "cells": [
  {
   "cell_type": "markdown",
   "metadata": {},
   "source": [
    "# Numerische Integration"
   ]
  },
  {
   "cell_type": "markdown",
   "metadata": {},
   "source": [
    "## Auftrag\n",
    "* Beschreiben Sie den Begriff des bestimmten Integrales.\n",
    "* Beschreiben Sie die Sekantenzrapezregel, die Tangententrapezregel und die Simpsonsche Regel als Näherungsformel für zur Berechnung bestimmter Integrale.\n",
    "* Erstellen Sie drei Python-Funktionen zur Approximation des Integrals $\\int_{a}^{b} f(x) dx$ dabei steht $n$ für die Anzahl Streifen (bzw Doppelstreifrn bei Simpson) in den Approximationen.\n",
    "  * `sekanten_trapez_regel(f, a, b, n)`\n",
    "  * `tangenten_trapez_regel(f, a, b, n)`\n",
    "  * `simpson_regel(f, a, b, n)`\n",
    "* Verwenden Sie die drei Approximationsregeln zur Bestimmung der folgenden Integrale (Varieren Sie dabei die Anzahl Streifen $n$):\n",
    "  * $\\int_{0}^{\\pi} sin(x) dx$\n",
    "  * $\\int_{-1}^{1} \\sqrt{1-x^2} dx$\n",
    "  * $\\int_{0}^{1} x^2 dx$\n",
    "* Stellen Sie Vermutungen auf, was beim Grenzwert $n\\to\\infty$ passiert.\n",
    "* Überprüfen Sie Ihre Vermutungen mit Sympy.\n",
    "* Vergleichen Sie die Genauigkeit der gemachten Approximationen."
   ]
  },
  {
   "cell_type": "markdown",
   "metadata": {},
   "source": [
    "## Bestimmtes Integral\n",
    "Die Integralrechnung gehört zu den wichtigsten Zweigen der Analysis. Mittels einem Integral können Flächenstücke zwischen dem Funktionsgraphen und der x-Achse berechnet werden. Das Integral ist ein Oberbegriff für das unbestimmte und das bestimmte Integral.  \n",
    "Das bestimmte Integral einer Funktion ordnet dieser einer Zahl zu und wird verwendet, wenn für eine Funktion keine Stammfunktion bestimmt werden kann. Weiterhin kann die numerische Methode verwendet werden, wenn nur Messpunkte und keine Funktion vorliegt. Es gibt verschiedene numerische Methoden. In dieser Arbeit wird auf die folgenden Methoden eingegangen:    \n",
    "\n",
    "* Trapezregel\n",
    "* Simpsonische Regel  \n",
    "\n",
    "Beim bestimmten Integral wird der Inhalt der Fläche unter einem Graphen im Intervall $a \\leq x \\leq b$ bestimmt.  \n",
    "\n",
    "![Bild 1](img/Integral.png)   \n",
    "\"[Bild 1] Darstellung des Integrals als Flächeninhalt $S$ unter dem Graphen einer Funktion $f$ im bestimmten Integrationsbereich von $a$ bis $b$\"  \n",
    "\n",
    "Das unbestimmte Integral einer Funktion ordnet dieser eine Menge von Funktionen zu, deren Elemente Stammfunktionen genannt werden. Dabei besitzt ein unbestimmtes Integral im Gegensatz des bestimmten Integrals keine obere und untere Grenze. In dieser Arbeit wird nicht weiter auf das unbestimmte Integral eingegangen."
   ]
  },
  {
   "cell_type": "markdown",
   "metadata": {},
   "source": [
    "## Trapezregel\n",
    "Bei der Trapezregel wird die Fläche unter dem Gaphen im Bereich $a \\leq x \\leq b$ in $n$ gleich breite Teilintervalle aufgeteilt. Pro Intervall wird zwischen den beiden Eckpunkten $x_i$ und $x_{i+1}$ eine Gerade gezogen, damit ein Trapez ensteht. Je höher die Anzahl der Teilintervalle gewählt wird, desto genauer ist die Annäherung der Fläche.  \n",
    "Ein Trapez $x_i$ lässt sich berechnent mit:  \n",
    "$$A_i=(b-a)*\\frac{f(x_i)+f(x_{i+1})}{2}$$  \n",
    "Um die gesamte Fläche im Intevall zu erhalten, müssen die einzelnen Trapeze als Summe berechnet werden:  \n",
    "$$A(n)=\\frac{b-a}{2n}*(f(a)+f(b)+2*\\sum_{i=1}^{n-1} f(x_i))$$"
   ]
  },
  {
   "cell_type": "markdown",
   "metadata": {},
   "source": [
    "## Simpsonsche Regel\n",
    "Die Simpsonsche Regel funktioniert ähnlich wie die Trapezregel. Hier werden jedoch die Eckpunkte nicht durch eine Gerade, sondern durch eine Parabel verbunden. Somit wird in der Regel eine bessere Annäherung der Fläche gegenüber der Trapezregel erzielt.  \n",
    "Ein Intervall $x_i$ lässt sich berechnen mit:  \n",
    "$$\\frac{b-a}{6n}*(f(a)+4*f(\\frac{a+b}{2})+f(b))$$\n",
    "Um die gesamte Fläche im Intervall zu erhalten, müssen die einzelnen Intervalle ebenfalls wieder als Summe berechnet werden:  \n",
    "$$\\frac{b-a}{6n}*(f(x_0)+f(x_{2n})+2*\\sum_{j=1}^{n-1} f(x_{2j})+4*\\sum_{j=1}^{n} f(x_{2j-1}))$$"
   ]
  },
  {
   "cell_type": "code",
   "execution_count": null,
   "metadata": {},
   "outputs": [],
   "source": []
  }
 ],
 "metadata": {
  "kernelspec": {
   "display_name": "Python 3",
   "language": "python",
   "name": "python3"
  },
  "language_info": {
   "codemirror_mode": {
    "name": "ipython",
    "version": 3
   },
   "file_extension": ".py",
   "mimetype": "text/x-python",
   "name": "python",
   "nbconvert_exporter": "python",
   "pygments_lexer": "ipython3",
   "version": "3.7.4"
  }
 },
 "nbformat": 4,
 "nbformat_minor": 2
}
