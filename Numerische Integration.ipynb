{
 "cells": [
  {
   "cell_type": "markdown",
   "metadata": {},
   "source": [
    "# Numerische Integration"
   ]
  },
  {
   "cell_type": "markdown",
   "metadata": {},
   "source": [
    "## Auftrag\n",
    "* Beschreiben Sie den Begriff des bestimmten Integrales.\n",
    "* Beschreiben Sie die Sekantenzrapezregel, die Tangententrapezregel und die Simpsonsche Regel als Näherungsformel für zur Berechnung bestimmter Integrale.\n",
    "* Erstellen Sie drei Python-Funktionen zur Approximation des Integrals $\\int_{a}^{b} f(x) dx$ dabei steht $n$ für die Anzahl Streifen (bzw Doppelstreifen bei Simpson) in den Approximationen.\n",
    "  * `sekanten_trapez_regel(f, a, b, n)`\n",
    "  * `tangenten_trapez_regel(f, a, b, n)`\n",
    "  * `simpson_regel(f, a, b, n)`\n",
    "* Verwenden Sie die drei Approximationsregeln zur Bestimmung der folgenden Integrale (Varieren Sie dabei die Anzahl Streifen $n$):\n",
    "  * $\\int_{0}^{\\pi} sin(x) dx$\n",
    "  * $\\int_{-1}^{1} \\sqrt{1-x^2} dx$\n",
    "  * $\\int_{0}^{1} x^2 dx$\n",
    "* Stellen Sie Vermutungen auf, was beim Grenzwert $n\\to\\infty$ passiert.\n",
    "* Überprüfen Sie Ihre Vermutungen mit Sympy.\n",
    "* Vergleichen Sie die Genauigkeit der gemachten Approximationen."
   ]
  },
  {
   "cell_type": "markdown",
   "metadata": {},
   "source": [
    "## Umgebung\n",
    "Damit die Snippets funktionieren, müssen die folgenden Python-Module installiert sein.\n",
    "* SymPy\n",
    "* PrettyTable\n",
    "* Matplotlib\n"
   ]
  },
  {
   "cell_type": "code",
   "execution_count": 36,
   "metadata": {},
   "outputs": [
    {
     "name": "stdout",
     "output_type": "stream",
     "text": [
      "Requirement already satisfied: sympy in /Library/Frameworks/Python.framework/Versions/3.8/lib/python3.8/site-packages (1.5.1)\n",
      "Requirement already satisfied: mpmath>=0.19 in /Library/Frameworks/Python.framework/Versions/3.8/lib/python3.8/site-packages (from sympy) (1.1.0)\n",
      "Note: you may need to restart the kernel to use updated packages.\n"
     ]
    }
   ],
   "source": [
    "pip install sympy"
   ]
  },
  {
   "cell_type": "code",
   "execution_count": 37,
   "metadata": {},
   "outputs": [
    {
     "name": "stdout",
     "output_type": "stream",
     "text": [
      "Requirement already satisfied: PTable in /Library/Frameworks/Python.framework/Versions/3.8/lib/python3.8/site-packages (0.9.2)\n",
      "Note: you may need to restart the kernel to use updated packages.\n"
     ]
    }
   ],
   "source": [
    " pip install PTable"
   ]
  },
  {
   "cell_type": "code",
   "execution_count": 38,
   "metadata": {},
   "outputs": [
    {
     "name": "stdout",
     "output_type": "stream",
     "text": [
      "Requirement already satisfied: matplotlib in /Library/Frameworks/Python.framework/Versions/3.8/lib/python3.8/site-packages (3.1.3)\n",
      "Requirement already satisfied: cycler>=0.10 in /Library/Frameworks/Python.framework/Versions/3.8/lib/python3.8/site-packages (from matplotlib) (0.10.0)\n",
      "Requirement already satisfied: pyparsing!=2.0.4,!=2.1.2,!=2.1.6,>=2.0.1 in /Library/Frameworks/Python.framework/Versions/3.8/lib/python3.8/site-packages (from matplotlib) (2.4.6)\n",
      "Requirement already satisfied: numpy>=1.11 in /Library/Frameworks/Python.framework/Versions/3.8/lib/python3.8/site-packages (from matplotlib) (1.18.1)\n",
      "Requirement already satisfied: python-dateutil>=2.1 in /Library/Frameworks/Python.framework/Versions/3.8/lib/python3.8/site-packages (from matplotlib) (2.8.1)\n",
      "Requirement already satisfied: kiwisolver>=1.0.1 in /Library/Frameworks/Python.framework/Versions/3.8/lib/python3.8/site-packages (from matplotlib) (1.1.0)\n",
      "Requirement already satisfied: six in /Library/Frameworks/Python.framework/Versions/3.8/lib/python3.8/site-packages (from cycler>=0.10->matplotlib) (1.13.0)\n",
      "Requirement already satisfied: setuptools in /Library/Frameworks/Python.framework/Versions/3.8/lib/python3.8/site-packages (from kiwisolver>=1.0.1->matplotlib) (41.2.0)\n",
      "Note: you may need to restart the kernel to use updated packages.\n"
     ]
    }
   ],
   "source": [
    "pip install matplotlib"
   ]
  },
  {
   "cell_type": "markdown",
   "metadata": {},
   "source": [
    "### SymPy\n",
    "**SymPy** ist eine Python-Programmierbibliothek für symbolische mathematische Berechnungen.\n",
    "### PrettyTable\n",
    "**PrettyTable** ist eine Python-Programmierbibliothek die es ermöglicht einfach ASCII-Tabellen mittels Python zu generieren.\n",
    "### Matplotlib\n",
    "Bei **Matplotlib** handelt es sich um eine Programmbibliothek für die Programmiersprache Python. **Matplotlib** ermöglicht eine graphische Darstellung sämtlicher mathematischen Funktionen und vielem mehr. Die erstellten Graphen können mit wenig Aufwand so konfiguriert werden, sodass sie für fast alle Anwendungsbereiche geeignet sind"
   ]
  },
  {
   "cell_type": "markdown",
   "metadata": {},
   "source": [
    "## Bestimmtes Integral\n",
    "Die Integralrechnung gehört zu den wichtigsten Zweigen der Analysis. Mittels einem Integral können Flächenstücke zwischen dem Funktionsgraphen und der x-Achse berechnet werden. Das Integral ist ein Oberbegriff für das unbestimmte und das bestimmte Integral.  \n",
    "Das bestimmte Integral einer Funktion ordnet dieser einer Zahl zu und wird verwendet, wenn für eine Funktion keine Stammfunktion bestimmt werden kann. Weiterhin kann die numerische Methode verwendet werden, wenn nur Messpunkte und keine Funktion vorliegt. Es gibt verschiedene numerische Methoden. In dieser Arbeit wird auf die folgenden Methoden eingegangen:    \n",
    "\n",
    "* Trapezregel\n",
    "* Simpsonische Regel  \n",
    "\n",
    "Beim bestimmten Integral wird der Inhalt der Fläche unter einem Graphen im Intervall $a \\leq x \\leq b$ bestimmt.  \n",
    "\n",
    "![Bild 1](img/Integral.png)   \n",
    "\"[Bild 1] Darstellung des Integrals als Flächeninhalt $S$ unter dem Graphen einer Funktion $f$ im bestimmten Integrationsbereich von $a$ bis $b$\"  \n",
    "\n",
    "Das unbestimmte Integral einer Funktion ordnet dieser eine Menge von Funktionen zu, deren Elemente Stammfunktionen genannt werden. Dabei besitzt ein unbestimmtes Integral im Gegensatz des bestimmten Integrals keine obere und untere Grenze. In dieser Arbeit wird nicht weiter auf das unbestimmte Integral eingegangen."
   ]
  },
  {
   "cell_type": "markdown",
   "metadata": {},
   "source": [
    "## Trapezregel\n",
    "Bei der Trapezregel wird die Fläche unter dem Gaphen im Bereich $a \\leq x \\leq b$ in $n$ gleich breite Teilintervalle aufgeteilt. Pro Intervall wird zwischen den beiden Eckpunkten $x_i$ und $x_{i+1}$ eine Gerade gezogen, damit ein Trapez ensteht. Je höher die Anzahl der Teilintervalle gewählt wird, desto genauer ist die Annäherung der Fläche.     \n",
    "Die Trapezregel kann als Sehnentrapezformel oder Tangententrapezformel angewannt werden."
   ]
  },
  {
   "cell_type": "markdown",
   "metadata": {},
   "source": [
    "### Sehnentrapezformel\n",
    "Bei der Sehnentrapezformel wird das Trapez aus der Grundlinie $[a,b]$, den senkrechten Geraden $[a, f(a)]$ und $[f(b)]$ sowie der Sehne als Verbindungsgerade zwischen $f(a)$ und $f(b)$. Die Sehne ersetzt an dieser Stelle die Kurve $f(x)$.  \n",
    "\n",
    "![Bild 2](img/Sehnentrapezformel.png)  \n",
    "\"[Bild 2] Sehnentrapezformel\"\n",
    "\n",
    "Ein Trapez berechnet sich somit mit folgender Formel:  \n",
    "$$Q(f)=\\frac{a-b}{2}*(f(a)+f(b))$$  \n",
    "Um das Integral noch besser annähern zu können, wird das Integrall $[a,b]$ in $n$ nebeneinanderliegende gleich grosse Teilintervalle der Länge $h$. Für jede einzelne Teilinterall wendet man die Sehentrapezformel an und berechnet die Teilfläche und summiert diese Teilflächen zusammen.\n",
    "Daraus ergibt sich die Sehentrapezformel:\n",
    "$$Q(f)=h*(\\frac{1}{2}*f(a)+\\frac{1}{2}*f(b)+\\sum_{i=1}^{n-1}f(a+i*h))$$  \n",
    "$$h=\\frac{b-a}{n}$$"
   ]
  },
  {
   "cell_type": "markdown",
   "metadata": {},
   "source": [
    "### Implementierung der Sehnentrapezformel\n",
    "Die Annäherung mittels der Sehnentrapezformel wurde im nachfolgenden Sippet `sekanten_trapez_regel(f, a, b, n)` umgesetzt."
   ]
  },
  {
   "cell_type": "code",
   "execution_count": 39,
   "metadata": {},
   "outputs": [],
   "source": [
    "def sekanten_trapez_regel(f, a, b, n):\n",
    "    \"\"\" Berechnet die Fläche einer Funktion zur x-Achse zwischen a und b mit Hilfe der Sehnentrapezformel.\n",
    "        @param: Funktion f: sympy-Funktion die angenähert werden soll\n",
    "        @param: float a: Start des Intervalls\n",
    "        @param: float b: Ende des Intervalls\n",
    "        @param: int n: Aufteilung des Intervalles\n",
    "        @return: Fläche zwischen a und b und unterhalb des Integrals\n",
    "    \"\"\"\n",
    "    \n",
    "    # Länge der Abschnitte berechnen\n",
    "    h = (b - a) / n\n",
    "\n",
    "    # Funktionwerte von a und b berechnen\n",
    "    f_a = f.subs(x, a)\n",
    "    f_b = f.subs(x, b)\n",
    "\n",
    "    # Summe aller Teilfunktionwerte berechnen\n",
    "    summe = 0\n",
    "    for i in range(1, n):\n",
    "        f_ai = f.subs(x, (a + i*h))\n",
    "        summe += f_ai\n",
    "    \n",
    "    # Zwischenschritte zusammenrechner (Sehnentrapezformel)\n",
    "    return h * (f_a/2 + f_b/2 + summe)"
   ]
  },
  {
   "cell_type": "markdown",
   "metadata": {},
   "source": [
    "### Tangententrapezformel\n",
    "Bei der Tangententrapezformel wird die obere Seite des Trapezes in der Mitte des Intervalles $[a,b]$ als Tangete von $f(x)$ gelegt. Die restlichen Seiten sind die Grundlinie $[a,b]$ und die senkrechte Gerande an der Stelle $a$ und $b$ bis zur Tangente.\n",
    "\n",
    "![Bild 3](img/Tangententrapezformel.png) \"[Bild 3] Tangententrapezformel\"\n",
    "\n",
    "Daraus ergibt sich die Tangententrapezformel:\n",
    "$$Q(f)=(b-a)*f(\\frac{a+b}{2})$$  \n",
    "Wie bei der Sehnentrapezformel wird auch hier um eine bessere Annäherung zu erreichen das Intervall $[a,b]$ in $n$ nebeneinanderliegendne gleich grosse Teilintervalle der Länge $h$ geteilt. Die einzelnen Teilflächen werden zusammenadiert womit es einen genaueren Näerung ergibt.  \n",
    "Daraus ergibt sich die Tagententrapezformel:\n",
    "$$Q(f)=h*\\sum_{i=1}^{n}f(a+h*\\frac{2i-1}{2})$$  \n",
    "$$h=\\frac{b-a}{n}$$"
   ]
  },
  {
   "cell_type": "markdown",
   "metadata": {},
   "source": [
    "### Implementierung der Tangententrapezformel\n",
    "Die Annäherung mittels der Tangententrapezformel wurde im nachfolgenden Sippet `tangenten_trapez_regel(f, a, b, n)` umgesetzt."
   ]
  },
  {
   "cell_type": "code",
   "execution_count": 40,
   "metadata": {},
   "outputs": [],
   "source": [
    "def tangenten_trapez_regel(f, a, b, n):\n",
    "    \"\"\" Berechnet die Fläche einer Funktion zur x-Achse zwischen a und b mit Hilfe der Tangententrapezformel.\n",
    "        @param: Funktion f: sympy-Funktion die angenähert werden soll\n",
    "        @param: float a: Start des Intervalls\n",
    "        @param: float b: Ende des Intervalls\n",
    "        @param: int n: Aufteilung des Intervalles\n",
    "        @return: Fläche zwischen a und b und unterhalb des Integrals\n",
    "    \"\"\"\n",
    "    \n",
    "    # Länge der Abschnitte berechnen\n",
    "    h = (b - a) / n\n",
    "\n",
    "    # Summe aller Teilfunktionwerte berechnen\n",
    "    summe = 0\n",
    "    for i in range(1, n + 1):\n",
    "        f_ai = f.subs(x, (a + h * ((2*i - 1) / 2)))\n",
    "        summe += f_ai\n",
    "    \n",
    "    # Zwischenschritte zusammenrechner (Tagententrapezformel)\n",
    "    return h*summe"
   ]
  },
  {
   "cell_type": "markdown",
   "metadata": {},
   "source": [
    "## Simpsonsche Regel\n",
    "Die Simpsonsche Regel funktioniert ähnlich wie die Trapezregel. Hier werden jedoch die Eckpunkte nicht durch eine Gerade, sondern durch eine Parabel verbunden. Somit wird in der Regel eine bessere Annäherung der Fläche gegenüber der Trapezregel erzielt.  \n",
    "\n",
    "![Bild 4](img/Simpsonscheregel.png)  \n",
    "\"[Bild 4] Simpsonsche Regel\"\n",
    "\n",
    "Ein Intervall lässt sich berechnen mit:  \n",
    "$$Q(f)=\\frac{b-a}{6}*(f(a)+4*f(\\frac{a+b}{2})+f(b))$$  \n",
    "Um die gesamte Fläche im Intervall zu erhalten, müssen die einzelnen Intervalle ebenfalls wieder als Summe berechnet werden:  \n",
    "$$Q(f)=\\frac{h}{3}*(\\frac{1}{2}*f(x_0)+\\sum_{k=1}^{n-1}f(x_k)+2*\\sum_{k=1}^{n}f(\\frac{x_{k-1}+x_k}{2})+\\frac{1}{2}*f(x_n))$$  \n",
    "$$h=\\frac{b-a}{n}, x_k=a+k*h$$"
   ]
  },
  {
   "cell_type": "markdown",
   "metadata": {},
   "source": [
    "### Implementierung der Simpsonsche Regel\n",
    "Die Annäherung mittels der Simpsonsche Regel wurde im nachfolgenden Sippet `simpson_regel(f, a, b, n)` umgesetzt."
   ]
  },
  {
   "cell_type": "code",
   "execution_count": 41,
   "metadata": {},
   "outputs": [],
   "source": [
    "def simpson_regel(f, a, b, n):\n",
    "    \"\"\" Berechnet die Fläche einer Funktion zur x-Achse zwischen a und b mit Hilfe der Simpsonsche Regel.\n",
    "        @param: Funktion f: sympy-Funktion die angenähert werden soll\n",
    "        @param: float a: Start des Intervalls\n",
    "        @param: float b: Ende des Intervalls\n",
    "        @param: int n: Aufteilung des Intervalles\n",
    "        @return: Fläche zwischen a und b und unterhalb des Integrals\n",
    "    \"\"\"\n",
    "        \n",
    "    # Länge der Abschnitte berechnen\n",
    "    h = (b - a) / n\n",
    "    \n",
    "    # Funktionwerte von x0 und xn berechnen\n",
    "    f_x0 = f.subs(x, a)\n",
    "    f_xn = f.subs(x, b)\n",
    "\n",
    "    # Summe erster Teilfunktionwerte berechnen\n",
    "    summe_1 = 0\n",
    "    for k in range(1, n):\n",
    "        f_xk = f.subs(x, (a + k*h))\n",
    "        summe_1 += f_xk\n",
    "        \n",
    "    # Summe zweiter Teilfunktionwerte berechnen\n",
    "    summe_2 = 0\n",
    "    for k in range(1, n + 1):\n",
    "        xk = (a + k*h)\n",
    "        xk_1 = (a + (k-1)*h)\n",
    "        f_xk = f.subs(x, ((xk_1 + xk) / 2))\n",
    "        summe_2 += f_xk\n",
    "    \n",
    "    # Zwischenschritte zusammenrechner (Simpsonsche Regel)\n",
    "    return (h/3) * (f_x0/2 + summe_1 + 2*summe_2 + f_xn/2) "
   ]
  },
  {
   "cell_type": "markdown",
   "metadata": {},
   "source": [
    "## Approximationsregeln miteinander Vergleichen\n",
    "Für den Vergleich werden die drei Funktionen der Aufgabenstellung verwendet und jeweils die Fläche für verschieden Anzahl an Abschnitten berechnet.  \n",
    "  * `funktion_1`: $\\int_{0}^{\\pi} sin(x) dx$\n",
    "  * `funktion_2`: $\\int_{-1}^{1} \\sqrt{1-x^2} dx$\n",
    "  * `funktion_3`: $\\int_{0}^{1} x^2 dx$\n"
   ]
  },
  {
   "cell_type": "code",
   "execution_count": 71,
   "metadata": {},
   "outputs": [
    {
     "name": "stdout",
     "output_type": "stream",
     "text": [
      "+------------+--------------------+-----------------------+-------------------+\n",
      "| Abschnitte | Sehnentrapezformel | Tangententrapezformel | Simpsonsche Regel |\n",
      "+------------+--------------------+-----------------------+-------------------+\n",
      "|     1      |     0.00000000     |       3.14159265      |     2.09439510    |\n",
      "|     2      |     1.57079633     |       2.22144147      |     2.00455975    |\n",
      "|     3      |     1.81379936     |       2.09439510      |     2.00086319    |\n",
      "|     4      |     1.89611890     |       2.05234431      |     2.00026917    |\n",
      "|     5      |     1.93376560     |       2.03328148      |     2.00010952    |\n",
      "|     6      |     1.95409723     |       2.02303032      |     2.00005262    |\n",
      "|     7      |     1.96631668     |       2.01688418      |     2.00002834    |\n",
      "|     8      |     1.97423160     |       2.01290909      |     2.00001659    |\n",
      "|     9      |     1.97965081     |       2.01019012      |     2.00001035    |\n",
      "|     10     |     1.98352354     |       2.00824841      |     2.00000678    |\n",
      "|     11     |     1.98638699     |       2.00681345      |     2.00000463    |\n",
      "|     12     |     1.98856378     |       2.00572302      |     2.00000327    |\n",
      "|     13     |     1.99025718     |       2.00487497      |     2.00000237    |\n",
      "|     14     |     1.99160043     |       2.00420243      |     2.00000176    |\n",
      "|     15     |     1.99268383     |       2.00366009      |     2.00000134    |\n",
      "+------------+--------------------+-----------------------+-------------------+\n"
     ]
    },
    {
     "data": {
      "image/png": "[encoded data removed]",
      "text/plain": [
       "<Figure size 432x288 with 1 Axes>"
      ]
     },
     "metadata": {
      "needs_background": "light"
     },
     "output_type": "display_data"
    },
    {
     "name": "stdout",
     "output_type": "stream",
     "text": [
      "+------------+--------------------+-----------------------+-------------------+\n",
      "| Abschnitte | Sehnentrapezformel | Tangententrapezformel | Simpsonsche Regel |\n",
      "+------------+--------------------+-----------------------+-------------------+\n",
      "|     1      |     0.00000000     |       2.00000000      |     1.33333333    |\n",
      "|     2      |     1.00000000     |       1.73205081      |     1.48803387    |\n",
      "|     3      |     1.25707872     |       1.66047466      |     1.52600935    |\n",
      "|     4      |     1.36602540     |       1.62968366      |     1.54179758    |\n",
      "|     5      |     1.42383672     |       1.61321211      |     1.55008698    |\n",
      "|     6      |     1.45877669     |       1.60320633      |     1.55506312    |\n",
      "|     7      |     1.48177453     |       1.59659738      |     1.55832310    |\n",
      "|     8      |     1.49785453     |       1.59196461      |     1.56059458    |\n",
      "|     9      |     1.50961592     |       1.58856947      |     1.56225162    |\n",
      "|     10     |     1.51852441     |       1.58599391      |     1.56350408    |\n",
      "|     11     |     1.52546288     |       1.58398543      |     1.56447791    |\n",
      "|     12     |     1.53099151     |       1.58238341      |     1.56525278    |\n",
      "|     13     |     1.53548113     |       1.58108134      |     1.56588127    |\n",
      "|     14     |     1.53918595     |       1.58000609      |     1.56639938    |\n",
      "|     15     |     1.54228545     |       1.57910596      |     1.56683246    |\n",
      "+------------+--------------------+-----------------------+-------------------+\n"
     ]
    },
    {
     "data": {
      "image/png": "[encoded data removed]",
      "text/plain": [
       "<Figure size 432x288 with 1 Axes>"
      ]
     },
     "metadata": {
      "needs_background": "light"
     },
     "output_type": "display_data"
    },
    {
     "name": "stdout",
     "output_type": "stream",
     "text": [
      "+------------+--------------------+-----------------------+-------------------+\n",
      "| Abschnitte | Sehnentrapezformel | Tangententrapezformel | Simpsonsche Regel |\n",
      "+------------+--------------------+-----------------------+-------------------+\n",
      "|     1      |     0.50000000     |       0.25000000      |     0.33333333    |\n",
      "|     2      |     0.37500000     |       0.31250000      |     0.33333333    |\n",
      "|     3      |     0.35185185     |       0.32407407      |     0.33333333    |\n",
      "|     4      |     0.34375000     |       0.32812500      |     0.33333333    |\n",
      "|     5      |     0.34000000     |       0.33000000      |     0.33333333    |\n",
      "|     6      |     0.33796296     |       0.33101852      |     0.33333333    |\n",
      "|     7      |     0.33673469     |       0.33163265      |     0.33333333    |\n",
      "|     8      |     0.33593750     |       0.33203125      |     0.33333333    |\n",
      "|     9      |     0.33539095     |       0.33230453      |     0.33333333    |\n",
      "|     10     |     0.33500000     |       0.33250000      |     0.33333333    |\n",
      "|     11     |     0.33471074     |       0.33264463      |     0.33333333    |\n",
      "|     12     |     0.33449074     |       0.33275463      |     0.33333333    |\n",
      "|     13     |     0.33431953     |       0.33284024      |     0.33333333    |\n",
      "|     14     |     0.33418367     |       0.33290816      |     0.33333333    |\n",
      "|     15     |     0.33407407     |       0.33296296      |     0.33333333    |\n",
      "+------------+--------------------+-----------------------+-------------------+\n"
     ]
    },
    {
     "data": {
      "image/png": "[encoded data removed]",
      "text/plain": [
       "<Figure size 432x288 with 1 Axes>"
      ]
     },
     "metadata": {
      "needs_background": "light"
     },
     "output_type": "display_data"
    }
   ],
   "source": [
    "import math\n",
    "import sympy as sp\n",
    "import matplotlib.pyplot as plt\n",
    "from prettytable import PrettyTable\n",
    "\n",
    "\"\"\"\n",
    "Berechnet für die definierten Funktionen die Flächen für die festgelegten Abschnitte. \n",
    "Berechnung erfolgt für jede Funktion mittels:\n",
    "* Sehnentrapezformel\n",
    "* Tangententrapezformel\n",
    "* Simpsonsche Regel\n",
    "Die Dahrstellung der Resultate erfolgt Tabelarisch und mittels eines Scatterplots.\n",
    "@param: list abschnitte: Berechnung der Fläche mittels der Anzahl an Abschnitten\n",
    "\"\"\"\n",
    "\n",
    "# abschnitte = [1, 2, 4, 8, 16, 32, 64, 128, 265, 512, 1024]\n",
    "abschnitte = range(1, 16)\n",
    "\n",
    "x = sp.Symbol('x')\n",
    "\n",
    "# Zu analysierende Funktionen\n",
    "funktion_1 = sp.sin(x)\n",
    "funktion_2 = sp.sqrt(1-x**2)\n",
    "funktion_3 = x**2\n",
    "\n",
    "# Funktionen mit Start- und Endwert\n",
    "funktionen = [(funktion_1, 0, math.pi), \n",
    "              (funktion_2, -1, 1), \n",
    "              (funktion_3, 0, 1),]\n",
    "\n",
    "for f, a, b in funktionen:\n",
    "    sehnentrapezformel = list()\n",
    "    tangententrapezformel = list()\n",
    "    simpsonsche_regel = list()\n",
    "\n",
    "    # Tabelle initialisieren\n",
    "    tabelle = PrettyTable()\n",
    "    tabelle.field_names = [\"Abschnitte\", \"Sehnentrapezformel\", \"Tangententrapezformel\", \"Simpsonsche Regel\"]\n",
    "    \n",
    "    # Berechnung für jede Formel und Abschnitt durchführen\n",
    "    for index, value in enumerate(abschnitte):\n",
    "        sehnentrapezformel.append(sekanten_trapez_regel(f, a, b, value))\n",
    "        tangententrapezformel.append(tangenten_trapez_regel(f, a, b, value))\n",
    "        simpsonsche_regel.append(simpson_regel(f, a, b, value))\n",
    "        tabelle.add_row([value, \n",
    "                         '{:.8f}'.format(float(sehnentrapezformel[index])),\n",
    "                         '{:.8f}'.format(float(tangententrapezformel[index])),  \n",
    "                         '{:.8f}'.format(float(simpsonsche_regel[index]))])\n",
    "    \n",
    "    # Tabelle darstellen und löschen füf nächste Funktion\n",
    "    print(tabelle)\n",
    "    tabelle.clear_rows()\n",
    "    \n",
    "    # Scatterplot erstellen\n",
    "    plt.title(f)\n",
    "    plt.xlabel('Fläche')\n",
    "    plt.ylabel('Abschnitte')\n",
    "    plt.grid(True)\n",
    "    \n",
    "    plt.scatter(sehnentrapezformel, abschnitte, label=\"Sehnentrapezformel\")\n",
    "    plt.plot(sehnentrapezformel, abschnitte, alpha=0.5)\n",
    "    plt.scatter(tangententrapezformel, abschnitte, label=\"Tangententrapezformel\", alpha=0.5)  \n",
    "    plt.plot(tangententrapezformel, abschnitte, alpha=0.5)\n",
    "    plt.scatter(simpsonsche_regel, abschnitte, label=\"Simpsonsche Regel\", alpha=0.5) \n",
    "    plt.plot(simpsonsche_regel, abschnitte, alpha=0.5)\n",
    "    \n",
    "    plt.legend()\n",
    "    plt.show()"
   ]
  },
  {
   "cell_type": "markdown",
   "metadata": {},
   "source": [
    "Wie in den Tabellen zu sehen ist, ist jeweils die Simpsonsche Regel mit weniger Abschnitten gennauer als die Trapezregeln. Dies deckt sich auch mit der Aussage aus dem Paper (Mathi.uni-heidelberg). Ebenfalls ist gut ersichtlich, dass sich bei allen drei Verfahren der Fehler minimiert lässt, indem höhere Anzahl an Teilintervallen $n$ gewählt wird. Das gleiche Verhalten ist in den Grafiken wieder zufinden. Spannend ist, dass sich die *Tangententrapezformel* und *Sehnentrapezformel* sich annähern, jedoch nie von der gleichen Seite aus."
   ]
  },
  {
   "cell_type": "markdown",
   "metadata": {},
   "source": [
    "## Grenzwerte von $n\\to\\infty$\n",
    "TODO"
   ]
  },
  {
   "cell_type": "markdown",
   "metadata": {},
   "source": [
    "Daraus ergibt sich die Sehentrapezformel:\n",
    "$$Q(f)=h*(\\frac{1}{2}*f(a)+\\frac{1}{2}*f(b)+\\sum_{i=1}^{n-1}f(a+i*h))$$  \n",
    "$$h=\\frac{b-a}{n}$$"
   ]
  },
  {
   "cell_type": "code",
   "execution_count": 106,
   "metadata": {},
   "outputs": [
    {
     "ename": "TypeError",
     "evalue": "'Symbol' object cannot be interpreted as an integer",
     "output_type": "error",
     "traceback": [
      "\u001b[0;31m---------------------------------------------------------------------------\u001b[0m",
      "\u001b[0;31mTypeError\u001b[0m                                 Traceback (most recent call last)",
      "\u001b[0;32m<ipython-input-106-98ff9e229ddb>\u001b[0m in \u001b[0;36m<module>\u001b[0;34m\u001b[0m\n\u001b[1;32m      6\u001b[0m \u001b[0mfunktion_1\u001b[0m \u001b[0;34m=\u001b[0m \u001b[0msp\u001b[0m\u001b[0;34m.\u001b[0m\u001b[0msin\u001b[0m\u001b[0;34m(\u001b[0m\u001b[0mx\u001b[0m\u001b[0;34m)\u001b[0m\u001b[0;34m\u001b[0m\u001b[0;34m\u001b[0m\u001b[0m\n\u001b[1;32m      7\u001b[0m \u001b[0;34m\u001b[0m\u001b[0m\n\u001b[0;32m----> 8\u001b[0;31m \u001b[0mlimit\u001b[0m\u001b[0;34m(\u001b[0m\u001b[0msekanten_trapez_regel\u001b[0m\u001b[0;34m(\u001b[0m\u001b[0mfunktion_1\u001b[0m\u001b[0;34m,\u001b[0m \u001b[0;36m0\u001b[0m\u001b[0;34m,\u001b[0m \u001b[0mmath\u001b[0m\u001b[0;34m.\u001b[0m\u001b[0mpi\u001b[0m\u001b[0;34m,\u001b[0m \u001b[0mx\u001b[0m\u001b[0;34m)\u001b[0m\u001b[0;34m,\u001b[0m \u001b[0mx\u001b[0m\u001b[0;34m,\u001b[0m \u001b[0moo\u001b[0m\u001b[0;34m)\u001b[0m\u001b[0;34m\u001b[0m\u001b[0;34m\u001b[0m\u001b[0m\n\u001b[0m",
      "\u001b[0;32m<ipython-input-39-56180b55c657>\u001b[0m in \u001b[0;36msekanten_trapez_regel\u001b[0;34m(f, a, b, n)\u001b[0m\n\u001b[1;32m     17\u001b[0m     \u001b[0;31m# Summe aller Teilfunktionwerte berechnen\u001b[0m\u001b[0;34m\u001b[0m\u001b[0;34m\u001b[0m\u001b[0;34m\u001b[0m\u001b[0m\n\u001b[1;32m     18\u001b[0m     \u001b[0msumme\u001b[0m \u001b[0;34m=\u001b[0m \u001b[0;36m0\u001b[0m\u001b[0;34m\u001b[0m\u001b[0;34m\u001b[0m\u001b[0m\n\u001b[0;32m---> 19\u001b[0;31m     \u001b[0;32mfor\u001b[0m \u001b[0mi\u001b[0m \u001b[0;32min\u001b[0m \u001b[0mrange\u001b[0m\u001b[0;34m(\u001b[0m\u001b[0;36m1\u001b[0m\u001b[0;34m,\u001b[0m \u001b[0mn\u001b[0m\u001b[0;34m)\u001b[0m\u001b[0;34m:\u001b[0m\u001b[0;34m\u001b[0m\u001b[0;34m\u001b[0m\u001b[0m\n\u001b[0m\u001b[1;32m     20\u001b[0m         \u001b[0mf_ai\u001b[0m \u001b[0;34m=\u001b[0m \u001b[0mf\u001b[0m\u001b[0;34m.\u001b[0m\u001b[0msubs\u001b[0m\u001b[0;34m(\u001b[0m\u001b[0mx\u001b[0m\u001b[0;34m,\u001b[0m \u001b[0;34m(\u001b[0m\u001b[0ma\u001b[0m \u001b[0;34m+\u001b[0m \u001b[0mi\u001b[0m\u001b[0;34m*\u001b[0m\u001b[0mh\u001b[0m\u001b[0;34m)\u001b[0m\u001b[0;34m)\u001b[0m\u001b[0;34m\u001b[0m\u001b[0;34m\u001b[0m\u001b[0m\n\u001b[1;32m     21\u001b[0m         \u001b[0msumme\u001b[0m \u001b[0;34m+=\u001b[0m \u001b[0mf_ai\u001b[0m\u001b[0;34m\u001b[0m\u001b[0;34m\u001b[0m\u001b[0m\n",
      "\u001b[0;31mTypeError\u001b[0m: 'Symbol' object cannot be interpreted as an integer"
     ]
    }
   ],
   "source": [
    "from sympy import *\n",
    "import math\n",
    "\n",
    "x = sp.Symbol('x')\n",
    "\n",
    "funktion_1 = sp.sin(x)\n",
    "\n",
    "limit(sekanten_trapez_regel(funktion_1, 0, math.pi, x), x, oo)"
   ]
  },
  {
   "cell_type": "markdown",
   "metadata": {},
   "source": [
    "## Fazit\n",
    "TODO\n",
    "Python ist eine erstaunliche Programmiersprache. Im Laufe dieses Moduls war ich immer wieder überrascht wie einfach und schnell man mathematische Probleme damit lösen kann. Besonders gut gefallen hat mir, wie einfach man sie als Einsteiger lernen kann, sie aber trotzdem auch für fortgeschrittene Anwender noch einiges zu bieten hat. Die vielen Libraries unterstützen den Anwender dabei, bereits bekannte Probleme schnell und effizient zu lösen. Da zahlreiche Lösungen abgerufen werden können, muss man diese nicht jedes Mal von Neuem programmieren."
   ]
  },
  {
   "cell_type": "markdown",
   "metadata": {},
   "source": [
    "## Litaraturverzeichnis\n",
    "https://mathepedia.de/Trapezregel.html  \n",
    "https://mathepedia.de/Simpsonsche_Formel.html  \n",
    "https://de.wikipedia.org/wiki/Simpsonregel  \n",
    "https://de.wikipedia.org/wiki/Numerische_Integration#/media/Datei:Integral_as_region_under_curve.svg  \n",
    "Matplotlib. (2019). *Matplotlib*. Abgerufen am 19.03.2020 von https://matplotlib.org/  \n",
    "https://pypi.org/project/PTable/   \n",
    "https://www.sympy.org/en/index.html  \n",
    "https://www.mathi.uni-heidelberg.de/~thaeter/anasem08/Isenhardt.pdf"
   ]
  },
  {
   "cell_type": "code",
   "execution_count": null,
   "metadata": {},
   "outputs": [],
   "source": []
  }
 ],
 "metadata": {
  "kernelspec": {
   "display_name": "Python 3",
   "language": "python",
   "name": "python3"
  },
  "language_info": {
   "codemirror_mode": {
    "name": "ipython",
    "version": 3
   },
   "file_extension": ".py",
   "mimetype": "text/x-python",
   "name": "python",
   "nbconvert_exporter": "python",
   "pygments_lexer": "ipython3",
   "version": "3.8.0"
  }
 },
 "nbformat": 4,
 "nbformat_minor": 2
}
