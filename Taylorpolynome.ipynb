{
 "cells": [
  {
   "cell_type": "markdown",
   "metadata": {},
   "source": [
    "# Taylorpolynome"
   ]
  },
  {
   "cell_type": "markdown",
   "metadata": {},
   "source": [
    "## Auftrag"
   ]
  },
  {
   "cell_type": "markdown",
   "metadata": {},
   "source": [
    "* Sie können Funktionen mit Taylorpolynomen approximieren.\n",
    "* Sie können mathematische Sachverhalte mit Matplotlib visualisieren."
   ]
  },
  {
   "cell_type": "markdown",
   "metadata": {},
   "source": [
    "Visualisieren Sie die Approximation einer Funktion durch Taylorpolynome (z.B. von $sin(x)$ oder von $ln(x+1)$. Schreiben Sie eine Python-Funktion, die die Graphen der Ursprungsfunktion sowie der Taylorpolynome bis zu einem bestimmten Grad mit Matplotlib visualisiert."
   ]
  },
  {
   "cell_type": "markdown",
   "metadata": {},
   "source": [
    "## Umgebung"
   ]
  },
  {
   "cell_type": "markdown",
   "metadata": {},
   "source": [
    "Damit die Snippets funktionieren, müssen die folgenden Python-Module installiert sein."
   ]
  },
  {
   "cell_type": "markdown",
   "metadata": {},
   "source": [
    "* Matplotlib\n",
    "* NumPy"
   ]
  },
  {
   "cell_type": "code",
   "execution_count": 1,
   "metadata": {},
   "outputs": [
    {
     "name": "stdout",
     "output_type": "stream",
     "text": [
      "Requirement already satisfied: matplotlib in /usr/local/anaconda3/lib/python3.7/site-packages (3.1.1)\n",
      "Requirement already satisfied: cycler>=0.10 in /usr/local/anaconda3/lib/python3.7/site-packages (from matplotlib) (0.10.0)\n",
      "Requirement already satisfied: kiwisolver>=1.0.1 in /usr/local/anaconda3/lib/python3.7/site-packages (from matplotlib) (1.1.0)\n",
      "Requirement already satisfied: pyparsing!=2.0.4,!=2.1.2,!=2.1.6,>=2.0.1 in /usr/local/anaconda3/lib/python3.7/site-packages (from matplotlib) (2.4.7)\n",
      "Requirement already satisfied: python-dateutil>=2.1 in /usr/local/anaconda3/lib/python3.7/site-packages (from matplotlib) (2.8.1)\n",
      "Requirement already satisfied: numpy>=1.11 in /usr/local/anaconda3/lib/python3.7/site-packages (from matplotlib) (1.17.2)\n",
      "Requirement already satisfied: six in /usr/local/anaconda3/lib/python3.7/site-packages (from cycler>=0.10->matplotlib) (1.14.0)\n",
      "Requirement already satisfied: setuptools in /usr/local/anaconda3/lib/python3.7/site-packages (from kiwisolver>=1.0.1->matplotlib) (41.4.0)\n",
      "Note: you may need to restart the kernel to use updated packages.\n"
     ]
    }
   ],
   "source": [
    "pip install matplotlib"
   ]
  },
  {
   "cell_type": "code",
   "execution_count": 2,
   "metadata": {},
   "outputs": [
    {
     "name": "stdout",
     "output_type": "stream",
     "text": [
      "Requirement already satisfied: numpy in /usr/local/anaconda3/lib/python3.7/site-packages (1.17.2)\n",
      "Note: you may need to restart the kernel to use updated packages.\n"
     ]
    }
   ],
   "source": [
    "pip install numpy"
   ]
  },
  {
   "cell_type": "markdown",
   "metadata": {},
   "source": [
    "### Matplotlib\n",
    "Bei **Matplotlib** handelt es sich um eine Programmbibliothek für die Programmiersprache Python. **Matplotlib** ermöglicht eine graphische Darstellung sämtlicher mathematischen Funktionen und vielem mehr. Die erstellten Graphen können mit wenig Aufwand so konfiguriert werden, dass sie für fast alle Anwendungsbereiche geeignet sind *(Matplotlib, 2019)*."
   ]
  },
  {
   "cell_type": "markdown",
   "metadata": {},
   "source": [
    "### NumPy\n",
    "Bei **NumPy** handelt es sich um eine Programmbibliothek für die Programmiersprache Python. Diese Bibliothek ermöglicht eine einfache Handhabung von grossen mehrdimensionalen Arrays. Dazu bietet NumPy effiziente Implementierungen von mathematischen Funktionen *(Numpy, 2019)*."
   ]
  },
  {
   "cell_type": "markdown",
   "metadata": {},
   "source": [
    "## Grundlegendes zu Taylerpolynomen"
   ]
  },
  {
   "cell_type": "markdown",
   "metadata": {},
   "source": [
    "### Theorie"
   ]
  },
  {
   "cell_type": "markdown",
   "metadata": {},
   "source": [
    "Durch die Tangente kann eine Funktion an einer Stelle $x_0$ angenähert werden. Diese Approximation ist jedoch nur an einem Punkt genau und deshalb reicht diese Approximation oftmals nicht aus. Um eine glatte Funktion zu erhalten werden deshalb Polynome höheren Grades verwendet, sogenante Taylorplynome. Das Bild [Bild 1] zeigt die Funktion $f(x)=sin(x)$ sowie eine Approximation an der Stelle $x_0=0$ durch ein Taylorppolynom. Die Tangente, sprich die Funktion $f(x)=x$, ergibt bereits eine gutte Approximation um die $x_0$-Stelle. Jedoch steigt der die Abweichung vom Taylorpolynom zur Funktion sehr schnell, je weiter man sich von der $x_0$-Stelle wegbewegt. Besser ist ein Polynom dritten Grades, wie es die Funktion $f(x)=x-\\frac{x^3}{6}$ auf [Bild 1] zeigt im gegenzug zur Tangente.\n",
    "Bild einfügen....  \n"
   ]
  },
  {
   "cell_type": "markdown",
   "metadata": {},
   "source": [
    "## Litaraturverzeichnis\n",
    "Isenhardt N. (2008/09). *Numerische Integration*. Abgerufen am 12.04.2020 von https://www.mathi.uni-heidelberg.de/~thaeter/anasem08/Isenhardt.pdf  \n",
    "Mathepedia. Steinfeld T. *Trapezregel*. Abgerufen am 12.04.2020 von https://mathepedia.de/Trapezregel.html  \n",
    "Mathepedia. Steinfeld T. *Simpsonregel*. Abgerufen am 12.04.2020 von https://mathepedia.de/Simpsonsche_Formel.html  \n",
    "Wikipedia. (2019). *Simpsonregel*. Abgerufen am 12.04.2020 von https://de.wikipedia.org/wiki/Simpsonregel  \n",
    "Wikipedia. (2019). *Numerische Integration*. Abgerufen am 12.04.2020 von https://de.wikipedia.org/wiki/Numerische_Integration#/media/Datei:Integral_as_region\n",
    "_under_curve.svg  \n",
    "Matplotlib. (2019). *Matplotlib*. Abgerufen am 12.04.2020 von https://matplotlib.org/  \n",
    "https://pypi.org/project/PTable/   \n",
    "Sympy. (2019). *Sympy*. Abgerufen am 12.04.2020 von https://www.sympy.org/en/index.html  \n",
    "NumPy Developers. (2019). *NumPy*. Abgerufen am 12.04.2020 von https://numpy.org/  \n",
    "PTable. (2015). *PTable*. Abgerufen am 12.04.2020 von https://ptable.readthedocs.io/en/  \n",
    "latest/tutorial.html"
   ]
  },
  {
   "cell_type": "code",
   "execution_count": null,
   "metadata": {},
   "outputs": [],
   "source": []
  }
 ],
 "metadata": {
  "kernelspec": {
   "display_name": "Python 3",
   "language": "python",
   "name": "python3"
  },
  "language_info": {
   "codemirror_mode": {
    "name": "ipython",
    "version": 3
   },
   "file_extension": ".py",
   "mimetype": "text/x-python",
   "name": "python",
   "nbconvert_exporter": "python",
   "pygments_lexer": "ipython3",
   "version": "3.7.4"
  }
 },
 "nbformat": 4,
 "nbformat_minor": 2
}
