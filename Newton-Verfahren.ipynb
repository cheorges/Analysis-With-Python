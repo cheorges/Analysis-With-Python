{
 "cells": [
  {
   "cell_type": "markdown",
   "metadata": {},
   "source": [
    "# Newton-Verfahren"
   ]
  },
  {
   "cell_type": "markdown",
   "metadata": {},
   "source": [
    "## Auftrag"
   ]
  },
  {
   "cell_type": "markdown",
   "metadata": {},
   "source": [
    "Implementieren Sie das Newton-Verfahren zur Bestimmung von Nullstellen von Funktionen.\n",
    "(Dabei soll die Funktion als Sympy-Objekt eingegeben werden, so dass Sie mit Sympy die Ableitung davon bestimmen können.)"
   ]
  },
  {
   "cell_type": "markdown",
   "metadata": {},
   "source": [
    "* Beschreiben Sie das Verfahren.\n",
    "* Erstellen Sie eine Funktion `solve(f, x0)`, die eine Nullstelle von $f$ berechnet.\n",
    "* Wenden Sie das Verfahren auf einige Beispiele an.\n",
    "* Untersuchen Sie (empirisch), wie schnell das Verfahren konvergiert, wenn $x_0$ genügend nahe bei einer Nullstelle ist."
   ]
  },
  {
   "cell_type": "markdown",
   "metadata": {},
   "source": [
    "## Umgebung"
   ]
  },
  {
   "cell_type": "markdown",
   "metadata": {},
   "source": [
    "Damit die Snippets funktionieren, müssen die folgenden Python-Module installiert sein."
   ]
  },
  {
   "cell_type": "markdown",
   "metadata": {},
   "source": [
    "* SymPy\n",
    "* Matplotlib\n",
    "* PrettyTable"
   ]
  },
  {
   "cell_type": "code",
   "execution_count": 1,
   "metadata": {},
   "outputs": [
    {
     "name": "stdout",
     "output_type": "stream",
     "text": [
      "Requirement already satisfied: sympy in /usr/local/anaconda3/lib/python3.7/site-packages (1.4)\n",
      "Requirement already satisfied: mpmath>=0.19 in /usr/local/anaconda3/lib/python3.7/site-packages (from sympy) (1.1.0)\n",
      "Note: you may need to restart the kernel to use updated packages.\n"
     ]
    }
   ],
   "source": [
    "pip install sympy"
   ]
  },
  {
   "cell_type": "code",
   "execution_count": 2,
   "metadata": {},
   "outputs": [
    {
     "name": "stdout",
     "output_type": "stream",
     "text": [
      "Requirement already satisfied: matplotlib in /usr/local/anaconda3/lib/python3.7/site-packages (3.1.1)\n",
      "Requirement already satisfied: cycler>=0.10 in /usr/local/anaconda3/lib/python3.7/site-packages (from matplotlib) (0.10.0)\n",
      "Requirement already satisfied: kiwisolver>=1.0.1 in /usr/local/anaconda3/lib/python3.7/site-packages (from matplotlib) (1.1.0)\n",
      "Requirement already satisfied: pyparsing!=2.0.4,!=2.1.2,!=2.1.6,>=2.0.1 in /usr/local/anaconda3/lib/python3.7/site-packages (from matplotlib) (2.4.7)\n",
      "Requirement already satisfied: python-dateutil>=2.1 in /usr/local/anaconda3/lib/python3.7/site-packages (from matplotlib) (2.8.1)\n",
      "Requirement already satisfied: numpy>=1.11 in /usr/local/anaconda3/lib/python3.7/site-packages (from matplotlib) (1.17.2)\n",
      "Requirement already satisfied: six in /usr/local/anaconda3/lib/python3.7/site-packages (from cycler>=0.10->matplotlib) (1.14.0)\n",
      "Requirement already satisfied: setuptools in /usr/local/anaconda3/lib/python3.7/site-packages (from kiwisolver>=1.0.1->matplotlib) (41.4.0)\n",
      "Note: you may need to restart the kernel to use updated packages.\n"
     ]
    }
   ],
   "source": [
    "pip install matplotlib"
   ]
  },
  {
   "cell_type": "code",
   "execution_count": 3,
   "metadata": {},
   "outputs": [
    {
     "name": "stdout",
     "output_type": "stream",
     "text": [
      "Requirement already satisfied: PTable in /usr/local/anaconda3/lib/python3.7/site-packages (0.9.2)\n",
      "Note: you may need to restart the kernel to use updated packages.\n"
     ]
    }
   ],
   "source": [
    "pip install PTable"
   ]
  },
  {
   "cell_type": "code",
   "execution_count": 4,
   "metadata": {},
   "outputs": [
    {
     "name": "stdout",
     "output_type": "stream",
     "text": [
      "Requirement already satisfied: numpy in /usr/local/anaconda3/lib/python3.7/site-packages (1.17.2)\n",
      "Note: you may need to restart the kernel to use updated packages.\n"
     ]
    }
   ],
   "source": [
    "pip install numpy"
   ]
  },
  {
   "cell_type": "markdown",
   "metadata": {},
   "source": [
    "### SymPy"
   ]
  },
  {
   "cell_type": "markdown",
   "metadata": {},
   "source": [
    "**SymPy** ist eine Python-Programmierbibliothek für symbolische mathematische Berechnungen *(Sympy, 2019)*."
   ]
  },
  {
   "cell_type": "markdown",
   "metadata": {},
   "source": [
    "### Matplotlib"
   ]
  },
  {
   "cell_type": "markdown",
   "metadata": {},
   "source": [
    "Bei **Matplotlib** handelt es sich um eine Programmbibliothek für die Programmiersprache Python. **Matplotlib** ermöglicht eine graphische Darstellung sämtlicher mathematischen Funktionen und vielem mehr. Die erstellten Graphen können mit wenig Aufwand so konfiguriert werden, dass sie für fast alle Anwendungsbereiche geeignet sind *(Matplotlib, 2019)*."
   ]
  },
  {
   "cell_type": "markdown",
   "metadata": {},
   "source": [
    "### PrettyTable"
   ]
  },
  {
   "cell_type": "markdown",
   "metadata": {},
   "source": [
    "**PrettyTable** ist eine Python-Programmierbibliothek, die es ermöglicht einfache ASCII-Tabellen mittels Python zu generieren *(PTable, 2015)*."
   ]
  },
  {
   "cell_type": "markdown",
   "metadata": {},
   "source": [
    "### Numpy"
   ]
  },
  {
   "cell_type": "markdown",
   "metadata": {},
   "source": [
    "Bei **NumPy** handelt es sich um eine Programmbibliothek für die Programmiersprache Python. Diese Bibliothek ermöglicht eine einfache Handhabung von grossen mehrdimensionalen Arrays. Dazu bietet NumPy effiziente Implementierungen von mathematischen Funktionen *(Numpy, 2019)*."
   ]
  },
  {
   "cell_type": "markdown",
   "metadata": {},
   "source": [
    "## Grunlegendes zum Newton-Verfahren"
   ]
  },
  {
   "cell_type": "markdown",
   "metadata": {},
   "source": [
    "Mit dem Newton-Verfahren ist es möglich, die Nullstelle einer Funktion durch Annäherung zu bestimmen. Dieses Verfahren ist vor allem dann nützlich, wenn sich die Nullstelle nicht genau bestimmen lässt.  \n",
    "Um eine Nullstelle zu bestimmen werden folgende Punkte benötigt:"
   ]
  },
  {
   "cell_type": "markdown",
   "metadata": {},
   "source": [
    "* Eine Funktion $f$ die eine oder mehrere Nullstellen hat\n",
    "* Die erste Ableitung dieser Funktion $f$\n",
    "* Einen Startwert $x_0$, von diesem Wert wird das Newton-Verfahren gestartet  \n"
   ]
  },
  {
   "cell_type": "markdown",
   "metadata": {},
   "source": [
    "Zuerst wird an dem Startwert $x_0$ die Tangente an die Funktion $f$ gelegt. Dieser Punkt für die Tangente wird in der Abbildung [Bild 1] Newton-Verfahren mit dem Punkt $P_0 =(x_0,f(x_0))$ gekennzeichnet. Die Tangente sollte nun die X-Achse schneiden, sofern der Startwert gut ausgewählt wurde. Dieser neue Schnittpunkt an der X-Achse ist die erste Nährungswert $x_1$ der gesuchten Nullstelle. Die Definition von $x_1$ kann durch die Tangentengleichung hergeleiten werden lautet somit:  \n",
    "Tangentengleichung: $y=f(x_0)+(x_1-x_0)*f'(x_0)=0$\n",
    "\n",
    "Welches durch umfornmen die Definitin von $x_1$ ergibt:  \n",
    "\n",
    "$$x_1=x_0-\\frac{f(x_0)}{f'(x_0)}$$ \n",
    "\n",
    "Wird erneut eine Tangente angelegt und dies am Punkt $P_1=(x_1,f(x_1))$, welcher sich durch den neuen Schnittpunkt der Tangente von Punkt $P_0$ ergab. Liefert die neue Tangente einen neuen Schnittpunkt der X-Achse, was somit den nächsten Nährwärungswert $x_2$ ist. Dieses Verfahren lässt sich nun beliebig oft wiederholen, je nachdem wie genau der approximierte Wert gewünscht wird. Daraus lässt sich rekursiv definieren als:  \n",
    "\n",
    "$$x_n=x_{n-1}-\\frac{f(x_{n-1})}{f'(x_{n-1})}: n\\in\\mathbb{N}$$"
   ]
  },
  {
   "cell_type": "markdown",
   "metadata": {},
   "source": [
    "![Bild 1](img/Diff_Anw_Abl_Newton1.png)  \n",
    "[Bild 1] Newton-Verfahren *(mathelike, 2020)*"
   ]
  },
  {
   "cell_type": "markdown",
   "metadata": {},
   "source": [
    "Nebst dem Newton-Verfahren gibt es noch das Sekanten-Verfahren. Hier werden anstelle von Tangenten Sekanten verwenden, um die Nullstelle iterativ zu bestimmen. In dieser Arbeit wird jedoch nicht detailliert auf diese Variante eingegangen *(Mathepedia, 2020)*. "
   ]
  },
  {
   "cell_type": "markdown",
   "metadata": {},
   "source": [
    "### Wahl des Startwerts $x_0$"
   ]
  },
  {
   "cell_type": "markdown",
   "metadata": {},
   "source": [
    "Die Wahl des Startwerts ist insofern wichtig, da bei einer schlechten Wahl im schlimmsten Fall keine Annährung an den Nullpunkt möglich ist. Beispiel hierfür währe ein Startwert, welcher eine Gerade ergibt die parallel zur X-Achse verläuft.   \n",
    "Die erste Tangente an an $P_0$ sollte die Funktion $f$ möglichst gut annähern. Hierfür gibt es mehrere Verfahren einen geeigneten Startwert zu ermitteln."
   ]
  },
  {
   "cell_type": "markdown",
   "metadata": {},
   "source": [
    "* Die Funktion $f$ Skizzieren\n",
    "* Suche nach einem Vorzeichenwechsel der Funktionswerte.\n",
    "* Die Gleichung durch Termumformung in zwei einfachere Funktionen aufzuspalten"
   ]
  },
  {
   "cell_type": "markdown",
   "metadata": {},
   "source": [
    "### Abbruchkriterien"
   ]
  },
  {
   "cell_type": "markdown",
   "metadata": {},
   "source": [
    "Ein mögliches Abbruchkriterium könnte wie folgt definiert werden:  \n",
    "\n",
    "$|f(x_n)|<\\epsilon_1$ oder $|x_{n+1}-x_n|<\\epsilon_2$  \n",
    "\n",
    "Hier bestimmen $\\epsilon_1$ und $\\epsilon_2$ die Qualität der Nullstelle.  \n",
    "Weiter kann noch definiert werden, auf wie viele Kommastellen sich die zwei Werte $x_n$ und $x_{n-1}$ gleich sein müssen."
   ]
  },
  {
   "cell_type": "markdown",
   "metadata": {},
   "source": [
    "## Implementierung"
   ]
  },
  {
   "cell_type": "markdown",
   "metadata": {},
   "source": [
    "Die Funktion `solve` enthält zwei Parameter. Der erste Parameter ist die Funktion $f$ für welche eine Nullstelle gesucht wird und der zweite Parameter ist der Startwert $x_0$. Die Funktion $f$ muss als mathematische *Sympy*-Symbol der Funktion übergeben werden. Zubeginn wird die Ableitung der Funktion $f$ mit der *Sympy*-Programmierbibilothek berechnet. Danach startet eine Schleife in welcher das Newton-Verfahren angewendet wird. Die Schleife wird beendet, wenn sich die neue berechnete Nullstelle von der zuvorberechneten Nullstelle sich nicht verändert hat. Da Python mit 15 signifikaten Stellen arbeitet, wird sich hier die Genauikeit auf 15 Stellen beschränken. Da bei dieser Variante einer Schleife bei einem schlecht gewälten Startwert nicht terminiert, kann alternativ auch mit `for`-Schleifen gearbeitet werden, die nach n-Versuchen automatisch terminieren.   "
   ]
  },
  {
   "cell_type": "code",
   "execution_count": 24,
   "metadata": {},
   "outputs": [],
   "source": [
    "import sympy as sp\n",
    "\n",
    "def solve(f, x0):\n",
    "    \"\"\" \n",
    "    Ermittel die Nullstelle für die Funktion f mit dem Startwert x0.\n",
    "    @param: Funktion f: sympy-Funktion, als mathematischen Ausdruck\n",
    "    @param: int x0: Start für das Newton-Verfahren\n",
    "    @return: Fläche zwischen a und b unterhalb des Integrals\n",
    "    \"\"\"\n",
    "    \n",
    "    # Erste Ableitung der Funktion ermitteln\n",
    "    ableitung = sp.diff(f, x)\n",
    "    \n",
    "    iteration = 0\n",
    "    x_n = x0\n",
    "\n",
    "    # Alternativ zur Endlosschleife! \n",
    "    # for _ in range(1, 21):\n",
    "    for _ in range(1, 10001):\n",
    "        try:\n",
    "            x_nullstelle = x_n - (f.subs(x, x_n) / ableitung.subs(x, x_n))           \n",
    "        except ZeroDivisionError:\n",
    "            print('asdfsd')\n",
    "            raise Exeption('Division durch 0')\n",
    "        except AttributeError:\n",
    "            print('asdfsd')\n",
    "            raise Exeption('Funktion muss Symbol x enthalten')\n",
    "        except TypeError:\n",
    "            print('asdfsd')\n",
    "            raise Exeption('Funktion hat keine relle Nullstelle')\n",
    "      \n",
    "        # Abbruchbedingung \n",
    "        if x_nullstelle == x_n:\n",
    "            break\n",
    "            \n",
    "        x_n = x_nullstelle\n",
    "        iteration += 1\n",
    "    \n",
    "    return x_nullstelle, iteration"
   ]
  },
  {
   "cell_type": "markdown",
   "metadata": {},
   "source": [
    "### Berechnungen und Auswertung"
   ]
  },
  {
   "cell_type": "markdown",
   "metadata": {},
   "source": [
    "Für die folgenden Funktionen wird nun eine Nullstelle mit der Newton-Verfahren berechnet:"
   ]
  },
  {
   "cell_type": "markdown",
   "metadata": {},
   "source": [
    "* $f_1(x)=x+1$\n",
    "* $f_2(x)=x^2$\n",
    "* $f_4(x)=x^3 - 6x^2 + 4x + 12$"
   ]
  },
  {
   "cell_type": "markdown",
   "metadata": {},
   "source": [
    "Für einen ersten Überblick werden zuerst die drei Funktionen in einer Liste zusammengefasst, dass diese in den darauffolgenden Snippets wieder verwendet werden können."
   ]
  },
  {
   "cell_type": "code",
   "execution_count": 25,
   "metadata": {},
   "outputs": [],
   "source": [
    "import sympy as sp\n",
    "\n",
    "\n",
    "x = sp.Symbol('x')\n",
    "\n",
    "f_1 = x + 1\n",
    "f_2 = x**2\n",
    "f_3 = x**3 + 6*x**2 + 4*x - 12 \n",
    "f_4 = x**4 + 2\n",
    "\n",
    "\"\"\"\n",
    "Liste aus:\n",
    "- Funktion f\n",
    "- Startwert x0\n",
    "- Max. und Min. Bereich des Graphen\n",
    "- Bezeichnung der Funktion f \n",
    "\"\"\"\n",
    "funktionen = [(f_1, 2, -3, 3, r\"$f(x)=x+1$\"),\n",
    "              (f_2, 3, -4, 4, r\"$f(x)=x^2$\"),\n",
    "              (f_3, -1, -5, 2, r\"$f(x)=x^3-6x^2+x+12$\"),\n",
    "              (f_3, 0, -5, 2, r\"$f(x)=x^3-6x^2+x+12$\"),\n",
    "              (f_4, 3, -4, 4, r\"$f(x)=x**4+2$\")]"
   ]
  },
  {
   "cell_type": "code",
   "execution_count": null,
   "metadata": {},
   "outputs": [],
   "source": [
    "from prettytable import PrettyTable\n",
    "\n",
    "\n",
    "\"\"\"\n",
    "Erstellt eine einfache Tabelle welche für die Funktionen:\n",
    "- Den angenäherten Nullpunkt,\n",
    "- den Startwert,\n",
    "- und die Anzahl iterationen ausgeibt.\n",
    "\"\"\"\n",
    "\n",
    "tabelle = PrettyTable()\n",
    "tabelle.field_names = [\"Funktion\", \"Nullstelle\", \"Startwert\", \"Iterationen\"]\n",
    "\n",
    "for f, x0, start, ende, f_text in funktionen:\n",
    "    try:\n",
    "        x_nullstelle, iteration = solve(f, x0)\n",
    "        tabelle.add_row([f, float(x_nullstelle), x0, iteration])\n",
    "    except Exception as e:\n",
    "        print(str(e))\n",
    "                \n",
    "print(tabelle)"
   ]
  },
  {
   "cell_type": "markdown",
   "metadata": {},
   "source": [
    "Aus der Tabelle ist ersichtlich, dass die Nullstelle mit wenigen Iterationen (unter zehn Wiederholungen) angenähert werden konnte. Die zweite Funktion $f(x)=x^2$ benötigte als einzige über 1000 iterationen. "
   ]
  },
  {
   "cell_type": "code",
   "execution_count": 35,
   "metadata": {},
   "outputs": [
    {
     "data": {
      "image/png": "[encoded data removed]",
      "text/plain": [
       "<Figure size 432x288 with 1 Axes>"
      ]
     },
     "metadata": {
      "needs_background": "light"
     },
     "output_type": "display_data"
    },
    {
     "data": {
      "image/png": "[encoded data removed]",
      "text/plain": [
       "<Figure size 432x288 with 1 Axes>"
      ]
     },
     "metadata": {
      "needs_background": "light"
     },
     "output_type": "display_data"
    },
    {
     "data": {
      "image/png": "[encoded data removed]",
      "text/plain": [
       "<Figure size 432x288 with 1 Axes>"
      ]
     },
     "metadata": {
      "needs_background": "light"
     },
     "output_type": "display_data"
    },
    {
     "data": {
      "image/png": "[encoded data removed]",
      "text/plain": [
       "<Figure size 432x288 with 1 Axes>"
      ]
     },
     "metadata": {
      "needs_background": "light"
     },
     "output_type": "display_data"
    }
   ],
   "source": [
    "import numpy as np\n",
    "import matplotlib.pyplot as plt\n",
    "\n",
    "\n",
    "\"\"\"\n",
    "Erstell für jede Funktion eine Graphen welche die\n",
    "- Funktion,\n",
    "- den berechnete Nullpunkt und\n",
    "- den Startwert x0 und Punkt P0 darstellt.\n",
    "\"\"\"\n",
    "\n",
    "for f, x0, start, ende, f_text in funktionen:\n",
    "    try:\n",
    "        x_nullstelle, iteration = solve(f, x0)\n",
    "\n",
    "        # Daten für die Grafik aufbereiten\n",
    "        x_values = np.linspace(start, ende, 1000)\n",
    "        y_values = []\n",
    "\n",
    "        for x_value in x_values:\n",
    "            y_value = f.subs(x, x_value)\n",
    "            y_values.append(y_value)\n",
    "\n",
    "        # Graphik erstellen\n",
    "        plt.title(f'Funktion: {f_text}')\n",
    "        plt.xlabel('x-Achse')\n",
    "        plt.ylabel('y-Achse')\n",
    "        plt.grid(True)\n",
    "        \n",
    "        # Funktion f in den Graphen zeichnen\n",
    "        plt.plot(x_values, y_values, label=f_text)\n",
    "        # Nullstelle in den Graphen zeichnen\n",
    "        plt.plot(float(x_nullstelle), 0, 'og', label='Nullstelle')\n",
    "        # Startwert x0 und P0 in den Graphen zeichnen und mit vertikalen Liene verbinden\n",
    "        plt.plot(x0, f.subs(x, x0), '.r', label=r\"$P_0=(x_0, f(x_0))$\")\n",
    "        plt.plot(x0, 0, 'or', label=r\"$Startwert: x_0$\")\n",
    "        plt.plot([float(x0), float(x0)], [f.subs(x, x0), 0], '--r')\n",
    "        \n",
    "        plt.legend()\n",
    "        plt.show()\n",
    "    except Exception as e:\n",
    "        print(str(e))"
   ]
  },
  {
   "cell_type": "markdown",
   "metadata": {},
   "source": [
    "TODO: Iterationen ausgeben."
   ]
  },
  {
   "cell_type": "markdown",
   "metadata": {},
   "source": [
    "## Fazit"
   ]
  },
  {
   "cell_type": "markdown",
   "metadata": {},
   "source": [
    "Mit dem Newton-Verfahren ist es erstaunlich einfach, eine Nullstelle zu finden bzw. sich dieser anzunähern. Die Schwierigkeit liegt jedoch darin, den korrekten Startwert zu ermitteln. Denn wenn ein falscher Wert bestimmt wird, kann es entweder sehr lange dauern, bis die Nullstelle gefunden wird, da viele Iterationen nötig sind, oder es kann überhaupt keine Nullstelle gefunden werden."
   ]
  },
  {
   "cell_type": "markdown",
   "metadata": {},
   "source": [
    "## Litaraturverzeichnis"
   ]
  },
  {
   "cell_type": "markdown",
   "metadata": {},
   "source": [
    "Matplotlib. (2020). *Matplotlib*. Abgerufen am 07.05.2020 von https://matplotlib.org/  \n",
    "Sympy. (2020). *Sympy*. Abgerufen am 07.05.2020 von https://www.sympy.org/en/index.html  \n",
    "NumPy Developers. (2020). *NumPy*. Abgerufen am 07.05.2020 von https://numpy.org/  \n",
    "PTable. (2015). *PTable*. Abgerufen am 12.04.2020 von https://ptable.readthedocs.io/en/  \n",
    "latest/tutorial.html  \n",
    "mathelike. (2020). *Newton-Verfahren*. Abgerufen am 07.05.2020 https://www.mathelike.de/abi-check-mathe-abi-skript-bayern/1-analysis/1-5-differentialrechnung/1-5-5-newton-verfahren.html  \n",
    "Mathepedia. (2020). *Mathepedia, Sekantenverfahren*. Abgerufen am 07.05.2020 https://mathepedia.de/Sekantenverfahren.html  "
   ]
  },
  {
   "cell_type": "code",
   "execution_count": null,
   "metadata": {},
   "outputs": [],
   "source": []
  }
 ],
 "metadata": {
  "kernelspec": {
   "display_name": "Python 3",
   "language": "python",
   "name": "python3"
  },
  "language_info": {
   "codemirror_mode": {
    "name": "ipython",
    "version": 3
   },
   "file_extension": ".py",
   "mimetype": "text/x-python",
   "name": "python",
   "nbconvert_exporter": "python",
   "pygments_lexer": "ipython3",
   "version": "3.7.4"
  }
 },
 "nbformat": 4,
 "nbformat_minor": 2
}
