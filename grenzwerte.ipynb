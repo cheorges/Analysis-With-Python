{
 "cells": [
  {
   "cell_type": "markdown",
   "metadata": {},
   "source": [
    "# Generator-Funktion für Reihenfolge"
   ]
  },
  {
   "cell_type": "markdown",
   "metadata": {},
   "source": [
    "## Harmonische Folge"
   ]
  },
  {
   "cell_type": "code",
   "execution_count": 66,
   "metadata": {},
   "outputs": [],
   "source": [
    "def generator(gen, n):\n",
    "    count = 1\n",
    "    results = list()\n",
    "    for i in gen:\n",
    "        if count > n:\n",
    "            return results\n",
    "        count += 1\n",
    "        results.append(i)"
   ]
  },
  {
   "cell_type": "markdown",
   "metadata": {},
   "source": [
    "Reihenfolge: $1, \\frac{1}{2}, \\frac{1}{3}, \\frac{1}{4}, \\frac{1}{5}, \\frac{1}{6}, \\frac{1}{7}, ...$"
   ]
  },
  {
   "cell_type": "code",
   "execution_count": 67,
   "metadata": {},
   "outputs": [],
   "source": [
    "from fractions import Fraction\n",
    "\n",
    "def harmonic():\n",
    "    n = 1\n",
    "    while True:\n",
    "        yield Fraction(1, n)\n",
    "        n += 1"
   ]
  },
  {
   "cell_type": "code",
   "execution_count": 68,
   "metadata": {},
   "outputs": [
    {
     "data": {
      "text/plain": [
       "[Fraction(1, 1),\n",
       " Fraction(1, 2),\n",
       " Fraction(1, 3),\n",
       " Fraction(1, 4),\n",
       " Fraction(1, 5),\n",
       " Fraction(1, 6),\n",
       " Fraction(1, 7)]"
      ]
     },
     "execution_count": 68,
     "metadata": {},
     "output_type": "execute_result"
    }
   ],
   "source": [
    "generator(harmonic(), 7)"
   ]
  },
  {
   "cell_type": "markdown",
   "metadata": {},
   "source": [
    "### Weitere Reihenfolge\n",
    "Reihenfolge i: $1,3,9,27,81,243,729,...$ = $n^3$     \n",
    "Reihenfolge ii: $1,-\\frac{1}{2},\\frac{1}{4},-\\frac{1}{8},\\frac{1}{16},...$ = $\\frac{1}{(-2)^n}$    \n",
    "Reihenfolge iii: $1,3,6,10,15,21,28,36,45,55,..$ = $\\frac{n*(n-1)}{2}$ Gausssche Summenformel"
   ]
  },
  {
   "cell_type": "code",
   "execution_count": 69,
   "metadata": {},
   "outputs": [
    {
     "data": {
      "text/plain": [
       "[0, 1, 8, 27, 64, 125, 216, 343, 512, 729]"
      ]
     },
     "execution_count": 69,
     "metadata": {},
     "output_type": "execute_result"
    }
   ],
   "source": [
    "def r_i():\n",
    "    n = 0\n",
    "    while True:\n",
    "        yield n**3\n",
    "        n += 1\n",
    "        \n",
    "generator(r_i(), 10)"
   ]
  },
  {
   "cell_type": "code",
   "execution_count": 70,
   "metadata": {},
   "outputs": [
    {
     "data": {
      "text/plain": [
       "[Fraction(1, 1),\n",
       " Fraction(-1, 2),\n",
       " Fraction(1, 4),\n",
       " Fraction(-1, 8),\n",
       " Fraction(1, 16),\n",
       " Fraction(-1, 32),\n",
       " Fraction(1, 64),\n",
       " Fraction(-1, 128),\n",
       " Fraction(1, 256),\n",
       " Fraction(-1, 512)]"
      ]
     },
     "execution_count": 70,
     "metadata": {},
     "output_type": "execute_result"
    }
   ],
   "source": [
    "def r_ii():\n",
    "    n = 0\n",
    "    while True:\n",
    "        yield Fraction(1, (-2)**n)\n",
    "        n += 1\n",
    "        \n",
    "generator(r_ii(), 10)"
   ]
  },
  {
   "cell_type": "code",
   "execution_count": 71,
   "metadata": {},
   "outputs": [
    {
     "data": {
      "text/plain": [
       "[1.0, 3.0, 6.0, 10.0, 15.0, 21.0, 28.0, 36.0, 45.0, 55.0]"
      ]
     },
     "execution_count": 71,
     "metadata": {},
     "output_type": "execute_result"
    }
   ],
   "source": [
    "def r_iii():\n",
    "    n = 1\n",
    "    while True:\n",
    "        yield (n * (n + 1)) / 2\n",
    "        n += 1\n",
    "\n",
    "generator(r_iii(), 10)"
   ]
  },
  {
   "cell_type": "markdown",
   "metadata": {},
   "source": [
    "## Grenzwerte\n",
    "Beweis warum $(\\frac{n}{(n+1)})$ gegen 1 konvergiert.  \n",
    "$(\\frac{n}{(n+1)}) = \\frac{0}{1},\\frac{1}{2},\\frac{2}{3},\\frac{3}{4},\\frac{4}{5}$  \n",
    "$(\\frac{n}{(n+1)}) = \\frac{n + 1 -1}{n + 1} = \\frac{n + 1}{n + 1} - \\frac{1}{n+1} = 1 - \\frac{1}{n+1} = 1 - 0 = 1$ "
   ]
  },
  {
   "cell_type": "code",
   "execution_count": 72,
   "metadata": {},
   "outputs": [],
   "source": [
    "def someNumericValues(seq, L = [10 ** k for k in range(10)]):\n",
    "    for n in L:\n",
    "        print('{:>15}: {}'.format(n, seq(n)))"
   ]
  },
  {
   "cell_type": "code",
   "execution_count": 73,
   "metadata": {},
   "outputs": [
    {
     "name": "stdout",
     "output_type": "stream",
     "text": [
      "              0: 0.0\n",
      "              1: 0.5\n",
      "              2: 0.6666666666666666\n",
      "              3: 0.75\n",
      "              4: 0.8\n",
      "              5: 0.8333333333333334\n",
      "              6: 0.8571428571428571\n",
      "              7: 0.875\n",
      "              8: 0.8888888888888888\n",
      "              9: 0.9\n"
     ]
    }
   ],
   "source": [
    "someNumericValues(lambda n: n / (n + 1), range(10))"
   ]
  },
  {
   "cell_type": "code",
   "execution_count": 74,
   "metadata": {},
   "outputs": [
    {
     "name": "stdout",
     "output_type": "stream",
     "text": [
      "              1: 0.5\n",
      "             10: 0.9090909090909091\n",
      "            100: 0.9900990099009901\n",
      "           1000: 0.999000999000999\n",
      "          10000: 0.9999000099990001\n",
      "         100000: 0.999990000099999\n",
      "        1000000: 0.999999000001\n",
      "       10000000: 0.99999990000001\n",
      "      100000000: 0.9999999900000001\n",
      "     1000000000: 0.999999999\n"
     ]
    }
   ],
   "source": [
    "someNumericValues(lambda n: n / (n + 1))"
   ]
  },
  {
   "cell_type": "markdown",
   "metadata": {},
   "source": [
    "### Grenzwerte durch Python ermitteln\n",
    "Experimentell mit `someNumericValues` ermitteln ob und gegen welchen Wert die folgenden Folgen konvergieren:  \n",
    "* $\\frac{(-1)^n}{n}$ konvergiert gegen $0$    \n",
    "* $(\\frac{2}{3})^n$ konvergiert gegen $0$    \n",
    "* $(\\frac{3}{2})^n$ konvergiert nicht, divergent $\\infty$    \n",
    "* $\\sqrt[n]{42}$ konvergiert gegen $1$  \n",
    "* $\\sqrt[n]{n}$ konvergiert gegen $1$  \n",
    "* $\\frac{5^n}{n!}$ konvergiert gegen $0$  \n",
    "* $\\frac{n^3}{2^n}$ konvergiert gegen $0$  \n",
    "* $(\\frac{n + 1}{n})^n$ konvergiert gegen $e$ ca. 2.718 "
   ]
  },
  {
   "cell_type": "code",
   "execution_count": 75,
   "metadata": {},
   "outputs": [
    {
     "name": "stdout",
     "output_type": "stream",
     "text": [
      "              1: -1.0\n",
      "             10: 0.1\n",
      "            100: 0.01\n",
      "           1000: 0.001\n",
      "          10000: 0.0001\n",
      "         100000: 1e-05\n",
      "        1000000: 1e-06\n",
      "       10000000: 1e-07\n",
      "      100000000: 1e-08\n",
      "     1000000000: 1e-09\n"
     ]
    }
   ],
   "source": [
    "someNumericValues(lambda n: (-1)**n / n)"
   ]
  },
  {
   "cell_type": "code",
   "execution_count": 76,
   "metadata": {},
   "outputs": [
    {
     "name": "stdout",
     "output_type": "stream",
     "text": [
      "              1: 0.6666666666666666\n",
      "             10: 0.017341529915832606\n",
      "            100: 2.4596544265798157e-18\n",
      "           1000: 8.104774656527117e-177\n",
      "          10000: 0.0\n",
      "         100000: 0.0\n",
      "        1000000: 0.0\n",
      "       10000000: 0.0\n",
      "      100000000: 0.0\n",
      "     1000000000: 0.0\n"
     ]
    }
   ],
   "source": [
    "someNumericValues(lambda n: (2/3)**n)"
   ]
  },
  {
   "cell_type": "code",
   "execution_count": 77,
   "metadata": {},
   "outputs": [
    {
     "name": "stdout",
     "output_type": "stream",
     "text": [
      "              1: 1.5\n",
      "             10: 57.6650390625\n",
      "            100: 4.065611775352152e+17\n",
      "           1000: 1.2338405969061735e+176\n"
     ]
    }
   ],
   "source": [
    "someNumericValues(lambda n: (3/2)**n, [1, 10, 100, 1000])"
   ]
  },
  {
   "cell_type": "code",
   "execution_count": 78,
   "metadata": {},
   "outputs": [
    {
     "name": "stdout",
     "output_type": "stream",
     "text": [
      "              1: 42.0\n",
      "             10: 1.4531984602822678\n",
      "            100: 1.0380839894716327\n",
      "           1000: 1.0037446634161584\n",
      "          10000: 1.0003738368214026\n",
      "         100000: 1.0000373773947002\n",
      "        1000000: 1.0000037376766033\n",
      "       10000000: 1.0000003737670318\n",
      "      100000000: 1.0000000373766968\n",
      "     1000000000: 1.0000000037376697\n"
     ]
    }
   ],
   "source": [
    "someNumericValues(lambda n: 42**(1.0 / n))"
   ]
  },
  {
   "cell_type": "code",
   "execution_count": 79,
   "metadata": {},
   "outputs": [
    {
     "name": "stdout",
     "output_type": "stream",
     "text": [
      "              1: 1.0\n",
      "             10: 1.2589254117941673\n",
      "            100: 1.0471285480508996\n",
      "           1000: 1.0069316688518042\n",
      "          10000: 1.0009214583192958\n",
      "         100000: 1.0001151358822766\n",
      "        1000000: 1.0000138156059926\n",
      "       10000000: 1.000001611810864\n",
      "      100000000: 1.0000001842068245\n",
      "     1000000000: 1.000000020723266\n"
     ]
    }
   ],
   "source": [
    "someNumericValues(lambda n: n**(1.0 / n))"
   ]
  },
  {
   "cell_type": "code",
   "execution_count": 80,
   "metadata": {},
   "outputs": [
    {
     "name": "stdout",
     "output_type": "stream",
     "text": [
      "              1: 5.0\n",
      "             10: 2.6911444554673722\n",
      "            100: 8.45272575844283e-89\n",
      "           1000: 0.0\n"
     ]
    }
   ],
   "source": [
    "import math\n",
    "someNumericValues(lambda n: 5**n / math.factorial(n), [1, 10, 100, 1000])"
   ]
  },
  {
   "cell_type": "code",
   "execution_count": null,
   "metadata": {},
   "outputs": [],
   "source": [
    "someNumericValues(lambda n: n**3 / 2**n)"
   ]
  },
  {
   "cell_type": "code",
   "execution_count": null,
   "metadata": {},
   "outputs": [],
   "source": [
    "someNumericValues(lambda n: ((n + 1) / n)**n)"
   ]
  },
  {
   "cell_type": "markdown",
   "metadata": {},
   "source": [
    "### Geometrsiche Folge\n",
    "**Definition**  $q^n$ q fester Wert  \n",
    "$q>1$ divergiert, da der Wert immer steigt. Die Folge wächst ins Unendliche.  \n",
    "$q<1$ konvergiert gegen 0, da: $q=0.5$ ist gleich $\\frac{1}{2}$ was zur Reihenfolge $(\\frac{1}{2})^0, (\\frac{1}{2})^1, (\\frac{1}{2})^2,...=1,\\frac{1}{2},\\frac{1}{4},...$ führt.  \n",
    "\n",
    "$q=1$ konvergiert gegen 1, da $1^n$ immer 1 ergibt. ($1^5=1*1*1*1*1=1$)  \n",
    "$q=-1$ divergiert, da immer die Werte $1, -1, 1, -1, ...$ (Je nachdem ob die Potenz gerade oder ungerade ist)"
   ]
  },
  {
   "cell_type": "code",
   "execution_count": null,
   "metadata": {},
   "outputs": [],
   "source": [
    "# q = 1\n",
    "someNumericValues(lambda n: 1**n, [0, 1, 2, 3, 4, 5])"
   ]
  },
  {
   "cell_type": "code",
   "execution_count": null,
   "metadata": {},
   "outputs": [],
   "source": [
    "# q = -1\n",
    "someNumericValues(lambda n: (-1)**n, [0, 1, 2, 3, 4, 5])"
   ]
  },
  {
   "cell_type": "markdown",
   "metadata": {},
   "source": [
    "### Spassaufgabe (Wachstum)\n",
    "Sie haben von einer entfernten Verwandten 42 000 Euro geerbt. Ihre Bank bietet Ihnen an, das Geld zu sechs Prozent pro Jahr zu verzinsen. Sie fragen den Bankdirektor, was Sie bekommen würden, wenn Sie das Geld nur sechs Monate anlegen. Er antwortet, dass Sie dann drei Prozent bekämen. Jetzt haben Sie eine geniale Idee: Sie legen das Geld für sechs Monate an, streichen die drei Prozent Zinsen ein, und legen das gesamte Kapital plus Zinsen erneut für sechs Monate an. Das bringt im Endeffekt einen höheren Ertrag. (Rechnen Sie es aus!)  \n",
    "**Formel**  \n",
    "$Anfangskapital*Zinssatz**Jahre$  \n",
    "$Anfangskapital=42000$    \n",
    "\n",
    "Für ein Ganzes Jahr gibt es: $42000*1.06**1=44520$  \n",
    "Für ein halbes Jahr: $42000*1.03=43260$  \n",
    "Für zwei halbe Jahre: $42000*1.03^2=44557.80$  \n",
    "\n",
    "Treibt man, das Spiel weiter z.B: Jede Woche Geld holen und wieder einzahlen oder jede Sekunde oder ...  \n",
    "Allgemeine Formel wäre somit: $(1+\\frac{1}{n})^n$ diese konvergiert gegen $e$, somit ist es nicht möglich mit dieser Methode unendlich viel Geld zu gewinnen!"
   ]
  },
  {
   "cell_type": "code",
   "execution_count": null,
   "metadata": {},
   "outputs": [],
   "source": [
    "someNumericValues(lambda n: (1 + 1/n)**n)"
   ]
  },
  {
   "cell_type": "markdown",
   "metadata": {},
   "source": [
    "### Folgenglieder mithilfe des binomischen Lehrsatzes als Summen\n",
    "**Wachstum:**  \n",
    "$(1+\\frac{1}{n})^n = \\sum_{k=1}^{n} \\begin{pmatrix}n \\\\ k\\end{pmatrix} \\frac{1}{n^k}$  \n",
    "$n=6$  \n",
    "$k=4$    \n",
    "$\\begin{pmatrix}6 \\\\ 4\\end{pmatrix} \\frac{1}{6^4} = \\frac{6*5*4*3}{1*2*3*4} * \\frac{1}{6*6*6*6} = \\frac{1}{4!} * \\frac{6}{6} * \\frac{5}{6} * \\frac{4}{6} * \\frac{3}{6} = \\frac{1}{4!} * (1-\\frac{1}{6}) * (1-\\frac{2}{6}) * (1-\\frac{3}{6})$  \n",
    "\n",
    "$n=7$  \n",
    "$k=4$    \n",
    "$\\begin{pmatrix}6 \\\\ 4\\end{pmatrix} \\frac{1}{6^4} = \\frac{1}{4!} * (1-\\frac{1}{7}) * (1-\\frac{2}{7}) * (1-\\frac{3}{7})$  \n",
    "\n",
    "Diese Folge ist monotonsteigen, wenn $n$ grösser wird.  \n",
    "Bei $n=6$:  \n",
    "$(1+\\frac{1}{6})^6=\\sum_{k=0}^{6} \\begin{pmatrix}6 \\\\ k\\end{pmatrix} \\frac{1}{6^k}<\\frac{1}{0!}+\\frac{1}{1!}+...+\\frac{1}{6!}=1+1+\\frac{1}{2}+\\frac{1}{3!}+...+\\frac{1}{6!}<1+1+\\frac{1}{2}+\\frac{1}{2^2}+\\frac{1}{2^3}+...+\\frac{1}{2^5}=1+2-\\frac{1}{2^5}=3-\\frac{1}{2^5}$  \n",
    "Bein $n=7$:  \n",
    "$(1+\\frac{1}{7})^7=...<...<3-\\frac{1}{2^6}$  \n",
    "\n",
    "Egal wie gross $n$ wird, die Folge wird nie über drei hinauswachsen. Sie wird sich mit der Zeit an $e$ annähern."
   ]
  }
 ],
 "metadata": {
  "kernelspec": {
   "display_name": "Python 3",
   "language": "python",
   "name": "python3"
  },
  "language_info": {
   "codemirror_mode": {
    "name": "ipython",
    "version": 3
   },
   "file_extension": ".py",
   "mimetype": "text/x-python",
   "name": "python",
   "nbconvert_exporter": "python",
   "pygments_lexer": "ipython3",
   "version": "3.7.4"
  }
 },
 "nbformat": 4,
 "nbformat_minor": 4
}
