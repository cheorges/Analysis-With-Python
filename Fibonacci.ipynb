{
 "cells": [
  {
   "cell_type": "markdown",
   "metadata": {},
   "source": [
    "# Fibonacci Funktion"
   ]
  },
  {
   "cell_type": "markdown",
   "metadata": {},
   "source": [
    "## Auftrag\n",
    "1. Implementieren Sie eine Python-Funktion `fib(n)`, die die n-te Fibonacci-Zahl bestimmt.\n",
    "2. Eine naive Implementierung setzt die obige Rekursionsgleichung direkt um. Schreiben Sie eine weitere Python-Funktion, die berechnet, wie viele Funktionsaufrufe on `fib` notwendig sind, um die n-te Fibonacci-Zahl zu berechnen.\n",
    "3. Vergleichen Sie die Anzahl der Funktionsaufrufe von `fib` zur Bestimmung einer Fibonacci-Zahl mit den Fibonacci-Zahlen selber. Können Sie eine Vermutung aufstellen?\n",
    "4. Verwenden Sie die Funktion `time()` aus dem Modul time, um zu bestimmen, wie lange die Funktion `fib` benötigt, um eine Fibonacci-Zahl zu bestimmen.\n",
    "5. Implementieren Sie eine weitere Python-Funktion zur Berechnung der n-ten Fibonacci-Zahl, die möglichst effizient ist.\n",
    "### Fibonacci-Folge\n",
    "Die Fibonacci-Folge ist wie folgt definiert: \n",
    "  \n",
    "$f_0:=0$  \n",
    "$f_1:=1$  \n",
    "$f_n:=f_{n-1}+f_{n-2}$ für $n\\ge2$  \n",
    "  \n",
    "Die ersten Fibonacci-Zahlen sind foglich 0, 1, 1, 2, 3, 5, 8, 13, 21, 34, 55, ..., n"
   ]
  },
  {
   "cell_type": "markdown",
   "metadata": {},
   "source": [
    "## Umgebung\n",
    "TODO"
   ]
  },
  {
   "cell_type": "code",
   "execution_count": null,
   "metadata": {},
   "outputs": [],
   "source": [
    "def fib(n):\n",
    "    \"\"\"Berechnung der n-ten Fibonacci Zahl mit Rekursion\"\"\"\n",
    "    \n",
    "    if n < 2:\n",
    "        return n\n",
    "    else:\n",
    "        return fib(n-1) + fib(n-2)"
   ]
  }
 ],
 "metadata": {
  "kernelspec": {
   "display_name": "Python 3",
   "language": "python",
   "name": "python3"
  },
  "language_info": {
   "codemirror_mode": {
    "name": "ipython",
    "version": 3
   },
   "file_extension": ".py",
   "mimetype": "text/x-python",
   "name": "python",
   "nbconvert_exporter": "python",
   "pygments_lexer": "ipython3",
   "version": "3.7.4"
  }
 },
 "nbformat": 4,
 "nbformat_minor": 2
}
